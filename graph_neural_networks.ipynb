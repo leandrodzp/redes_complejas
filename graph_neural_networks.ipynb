{
 "cells": [
  {
   "cell_type": "markdown",
   "metadata": {},
   "source": [
    "# Graph Neural Networks"
   ]
  },
  {
   "cell_type": "code",
   "execution_count": 206,
   "metadata": {},
   "outputs": [],
   "source": [
    "import networkx as nx\n",
    "import scipy.sparse as sparse\n",
    "import numpy as np\n",
    "import matplotlib\n",
    "import pandas as pd\n",
    "from matplotlib.colors import ListedColormap\n",
    "import tensorflow as tf\n",
    "import matplotlib.pyplot"
   ]
  },
  {
   "cell_type": "code",
   "execution_count": 207,
   "metadata": {},
   "outputs": [],
   "source": [
    "graph = nx.read_gexf('grafo_ultimo.gexf', node_type=None, relabel=False)\n",
    "adj_matrix = nx.adjacency_matrix(graph)"
   ]
  },
  {
   "cell_type": "code",
   "execution_count": 208,
   "metadata": {},
   "outputs": [
    {
     "data": {
      "text/plain": [
       "<matplotlib.image.AxesImage at 0x148a8e950>"
      ]
     },
     "execution_count": 208,
     "metadata": {},
     "output_type": "execute_result"
    },
    {
     "data": {
      "image/png": "[encoded data removed]",
      "text/plain": [
       "<Figure size 288x288 with 1 Axes>"
      ]
     },
     "metadata": {
      "needs_background": "light"
     },
     "output_type": "display_data"
    }
   ],
   "source": [
    "cmap = ListedColormap(['white', 'black'])\n",
    "matplotlib.pyplot.matshow(adj_matrix, cmap=cmap)"
   ]
  },
  {
   "cell_type": "markdown",
   "metadata": {},
   "source": [
    "# Mergeo información de mis 2 datasets, el que contiene la red y el que contiene información de perfiles"
   ]
  },
  {
   "cell_type": "code",
   "execution_count": 209,
   "metadata": {},
   "outputs": [],
   "source": [
    "dataset = pd.read_csv(\"perfiles_etiquetados.csv\")\n",
    "users = pd.read_csv(\"users_info.csv\")\n",
    "dataset.rename(columns={'Label':'screen_name'}, inplace=True)\n",
    "full_dataset = pd.merge(dataset,users,on='screen_name',how='left')"
   ]
  },
  {
   "cell_type": "markdown",
   "metadata": {},
   "source": [
    "# Transformo el dataset cambiando las clases por 0 (FA) y 1 (CM). Las demás clases (periodista, medio, etc) las pongo en NaN."
   ]
  },
  {
   "cell_type": "code",
   "execution_count": 210,
   "metadata": {},
   "outputs": [],
   "source": [
    "full_dataset = full_dataset.replace({'medio': np.nan })\n",
    "full_dataset = full_dataset.replace({'periodista': np.nan })\n",
    "full_dataset = full_dataset.replace({'institucional': np.nan })\n",
    "full_dataset = full_dataset.replace({'fa': 0 })\n",
    "full_dataset = full_dataset.replace({'cm': 1 })"
   ]
  },
  {
   "cell_type": "code",
   "execution_count": 211,
   "metadata": {
    "scrolled": true
   },
   "outputs": [
    {
     "data": {
      "text/html": [
       "<div>\n",
       "<style scoped>\n",
       "    .dataframe tbody tr th:only-of-type {\n",
       "        vertical-align: middle;\n",
       "    }\n",
       "\n",
       "    .dataframe tbody tr th {\n",
       "        vertical-align: top;\n",
       "    }\n",
       "\n",
       "    .dataframe thead th {\n",
       "        text-align: right;\n",
       "    }\n",
       "</style>\n",
       "<table border=\"1\" class=\"dataframe\">\n",
       "  <thead>\n",
       "    <tr style=\"text-align: right;\">\n",
       "      <th></th>\n",
       "      <th>Id</th>\n",
       "      <th>screen_name</th>\n",
       "      <th>timeset</th>\n",
       "      <th>afinidad</th>\n",
       "      <th>modularity_class</th>\n",
       "      <th>pageranks</th>\n",
       "      <th>indegree</th>\n",
       "      <th>outdegree</th>\n",
       "      <th>Degree</th>\n",
       "      <th>Eccentricity</th>\n",
       "      <th>...</th>\n",
       "      <th>eigencentrality</th>\n",
       "      <th>id_str</th>\n",
       "      <th>location</th>\n",
       "      <th>description</th>\n",
       "      <th>protected</th>\n",
       "      <th>verified</th>\n",
       "      <th>followers_count</th>\n",
       "      <th>friends_count</th>\n",
       "      <th>statuses_count</th>\n",
       "      <th>created_at</th>\n",
       "    </tr>\n",
       "  </thead>\n",
       "  <tbody>\n",
       "    <tr>\n",
       "      <th>0</th>\n",
       "      <td>1052916459834364032</td>\n",
       "      <td>MillorLujan</td>\n",
       "      <td>NaN</td>\n",
       "      <td>NaN</td>\n",
       "      <td>5</td>\n",
       "      <td>0.000266</td>\n",
       "      <td>7</td>\n",
       "      <td>13</td>\n",
       "      <td>20</td>\n",
       "      <td>7</td>\n",
       "      <td>...</td>\n",
       "      <td>0.069047</td>\n",
       "      <td>NaN</td>\n",
       "      <td>NaN</td>\n",
       "      <td>NaN</td>\n",
       "      <td>NaN</td>\n",
       "      <td>NaN</td>\n",
       "      <td>NaN</td>\n",
       "      <td>NaN</td>\n",
       "      <td>NaN</td>\n",
       "      <td>NaN</td>\n",
       "    </tr>\n",
       "    <tr>\n",
       "      <th>1</th>\n",
       "      <td>1192212972497784832</td>\n",
       "      <td>MonicaBatlle4</td>\n",
       "      <td>NaN</td>\n",
       "      <td>NaN</td>\n",
       "      <td>3</td>\n",
       "      <td>0.002817</td>\n",
       "      <td>142</td>\n",
       "      <td>205</td>\n",
       "      <td>347</td>\n",
       "      <td>6</td>\n",
       "      <td>...</td>\n",
       "      <td>0.482481</td>\n",
       "      <td>1.192213e+18</td>\n",
       "      <td>Montevideo, Uruguay</td>\n",
       "      <td>Medica Diabetologa Tricolor a muerte</td>\n",
       "      <td>False</td>\n",
       "      <td>False</td>\n",
       "      <td>4557.0</td>\n",
       "      <td>4126.0</td>\n",
       "      <td>18797.0</td>\n",
       "      <td>2019-11-06 22:51:51</td>\n",
       "    </tr>\n",
       "    <tr>\n",
       "      <th>2</th>\n",
       "      <td>427830008</td>\n",
       "      <td>ubidominans</td>\n",
       "      <td>NaN</td>\n",
       "      <td>NaN</td>\n",
       "      <td>5</td>\n",
       "      <td>0.002089</td>\n",
       "      <td>84</td>\n",
       "      <td>37</td>\n",
       "      <td>121</td>\n",
       "      <td>6</td>\n",
       "      <td>...</td>\n",
       "      <td>0.483722</td>\n",
       "      <td>NaN</td>\n",
       "      <td>NaN</td>\n",
       "      <td>NaN</td>\n",
       "      <td>NaN</td>\n",
       "      <td>NaN</td>\n",
       "      <td>NaN</td>\n",
       "      <td>NaN</td>\n",
       "      <td>NaN</td>\n",
       "      <td>NaN</td>\n",
       "    </tr>\n",
       "    <tr>\n",
       "      <th>3</th>\n",
       "      <td>1367991289</td>\n",
       "      <td>laresistencia72</td>\n",
       "      <td>NaN</td>\n",
       "      <td>NaN</td>\n",
       "      <td>5</td>\n",
       "      <td>0.000727</td>\n",
       "      <td>29</td>\n",
       "      <td>54</td>\n",
       "      <td>83</td>\n",
       "      <td>6</td>\n",
       "      <td>...</td>\n",
       "      <td>0.235189</td>\n",
       "      <td>1.367991e+09</td>\n",
       "      <td>Uruguayo</td>\n",
       "      <td>''Que En Todos Lados Se Vea El Poder De La Cla...</td>\n",
       "      <td>False</td>\n",
       "      <td>False</td>\n",
       "      <td>383.0</td>\n",
       "      <td>839.0</td>\n",
       "      <td>2067.0</td>\n",
       "      <td>2013-04-20 20:51:14</td>\n",
       "    </tr>\n",
       "    <tr>\n",
       "      <th>4</th>\n",
       "      <td>938192801023561600</td>\n",
       "      <td>Sofamansillaeco</td>\n",
       "      <td>NaN</td>\n",
       "      <td>NaN</td>\n",
       "      <td>5</td>\n",
       "      <td>0.000272</td>\n",
       "      <td>6</td>\n",
       "      <td>9</td>\n",
       "      <td>15</td>\n",
       "      <td>7</td>\n",
       "      <td>...</td>\n",
       "      <td>0.055201</td>\n",
       "      <td>NaN</td>\n",
       "      <td>NaN</td>\n",
       "      <td>NaN</td>\n",
       "      <td>NaN</td>\n",
       "      <td>NaN</td>\n",
       "      <td>NaN</td>\n",
       "      <td>NaN</td>\n",
       "      <td>NaN</td>\n",
       "      <td>NaN</td>\n",
       "    </tr>\n",
       "    <tr>\n",
       "      <th>5</th>\n",
       "      <td>1045117028733001600</td>\n",
       "      <td>Mabel546</td>\n",
       "      <td>NaN</td>\n",
       "      <td>0.0</td>\n",
       "      <td>5</td>\n",
       "      <td>0.001398</td>\n",
       "      <td>64</td>\n",
       "      <td>73</td>\n",
       "      <td>137</td>\n",
       "      <td>6</td>\n",
       "      <td>...</td>\n",
       "      <td>0.480269</td>\n",
       "      <td>NaN</td>\n",
       "      <td>NaN</td>\n",
       "      <td>NaN</td>\n",
       "      <td>NaN</td>\n",
       "      <td>NaN</td>\n",
       "      <td>NaN</td>\n",
       "      <td>NaN</td>\n",
       "      <td>NaN</td>\n",
       "      <td>NaN</td>\n",
       "    </tr>\n",
       "  </tbody>\n",
       "</table>\n",
       "<p>6 rows × 28 columns</p>\n",
       "</div>"
      ],
      "text/plain": [
       "                    Id      screen_name  timeset  afinidad  modularity_class  \\\n",
       "0  1052916459834364032      MillorLujan      NaN       NaN                 5   \n",
       "1  1192212972497784832    MonicaBatlle4      NaN       NaN                 3   \n",
       "2            427830008      ubidominans      NaN       NaN                 5   \n",
       "3           1367991289  laresistencia72      NaN       NaN                 5   \n",
       "4   938192801023561600  Sofamansillaeco      NaN       NaN                 5   \n",
       "5  1045117028733001600         Mabel546      NaN       0.0                 5   \n",
       "\n",
       "   pageranks  indegree  outdegree  Degree  Eccentricity  ...  eigencentrality  \\\n",
       "0   0.000266         7         13      20             7  ...         0.069047   \n",
       "1   0.002817       142        205     347             6  ...         0.482481   \n",
       "2   0.002089        84         37     121             6  ...         0.483722   \n",
       "3   0.000727        29         54      83             6  ...         0.235189   \n",
       "4   0.000272         6          9      15             7  ...         0.055201   \n",
       "5   0.001398        64         73     137             6  ...         0.480269   \n",
       "\n",
       "         id_str             location  \\\n",
       "0           NaN                  NaN   \n",
       "1  1.192213e+18  Montevideo, Uruguay   \n",
       "2           NaN                  NaN   \n",
       "3  1.367991e+09             Uruguayo   \n",
       "4           NaN                  NaN   \n",
       "5           NaN                  NaN   \n",
       "\n",
       "                                         description  protected  verified  \\\n",
       "0                                                NaN        NaN       NaN   \n",
       "1               Medica Diabetologa Tricolor a muerte      False     False   \n",
       "2                                                NaN        NaN       NaN   \n",
       "3  ''Que En Todos Lados Se Vea El Poder De La Cla...      False     False   \n",
       "4                                                NaN        NaN       NaN   \n",
       "5                                                NaN        NaN       NaN   \n",
       "\n",
       "   followers_count  friends_count  statuses_count           created_at  \n",
       "0              NaN            NaN             NaN                  NaN  \n",
       "1           4557.0         4126.0         18797.0  2019-11-06 22:51:51  \n",
       "2              NaN            NaN             NaN                  NaN  \n",
       "3            383.0          839.0          2067.0  2013-04-20 20:51:14  \n",
       "4              NaN            NaN             NaN                  NaN  \n",
       "5              NaN            NaN             NaN                  NaN  \n",
       "\n",
       "[6 rows x 28 columns]"
      ]
     },
     "execution_count": 211,
     "metadata": {},
     "output_type": "execute_result"
    }
   ],
   "source": [
    "full_dataset.head(6)"
   ]
  },
  {
   "cell_type": "markdown",
   "metadata": {},
   "source": [
    "# Remuevo columnas que no voy a utilizar y guardo las etiquetas en la variable `labels`"
   ]
  },
  {
   "cell_type": "code",
   "execution_count": 212,
   "metadata": {},
   "outputs": [],
   "source": [
    "ids = full_dataset['Id']\n",
    "labels = full_dataset['afinidad']\n",
    "full_dataset = full_dataset.drop(columns=['afinidad', 'protected', 'verified', 'location', 'description', 'Id', 'screen_name', 'timeset', 'modularity_class', 'componentnumber', 'strongcompnum', 'indegree', 'outdegree', 'Degree', 'Eccentricity', 'id_str', 'created_at'])"
   ]
  },
  {
   "cell_type": "code",
   "execution_count": 213,
   "metadata": {
    "scrolled": true
   },
   "outputs": [
    {
     "data": {
      "text/html": [
       "<div>\n",
       "<style scoped>\n",
       "    .dataframe tbody tr th:only-of-type {\n",
       "        vertical-align: middle;\n",
       "    }\n",
       "\n",
       "    .dataframe tbody tr th {\n",
       "        vertical-align: top;\n",
       "    }\n",
       "\n",
       "    .dataframe thead th {\n",
       "        text-align: right;\n",
       "    }\n",
       "</style>\n",
       "<table border=\"1\" class=\"dataframe\">\n",
       "  <thead>\n",
       "    <tr style=\"text-align: right;\">\n",
       "      <th></th>\n",
       "      <th>pageranks</th>\n",
       "      <th>closnesscentrality</th>\n",
       "      <th>harmonicclosnesscentrality</th>\n",
       "      <th>betweenesscentrality</th>\n",
       "      <th>Authority</th>\n",
       "      <th>Hub</th>\n",
       "      <th>clustering</th>\n",
       "      <th>eigencentrality</th>\n",
       "      <th>followers_count</th>\n",
       "      <th>friends_count</th>\n",
       "      <th>statuses_count</th>\n",
       "    </tr>\n",
       "  </thead>\n",
       "  <tbody>\n",
       "    <tr>\n",
       "      <th>0</th>\n",
       "      <td>0.000266</td>\n",
       "      <td>0.320755</td>\n",
       "      <td>0.355198</td>\n",
       "      <td>0.000001</td>\n",
       "      <td>0.005914</td>\n",
       "      <td>0.013885</td>\n",
       "      <td>0.620879</td>\n",
       "      <td>0.069047</td>\n",
       "      <td>NaN</td>\n",
       "      <td>NaN</td>\n",
       "      <td>NaN</td>\n",
       "    </tr>\n",
       "    <tr>\n",
       "      <th>1</th>\n",
       "      <td>0.002817</td>\n",
       "      <td>0.410276</td>\n",
       "      <td>0.508049</td>\n",
       "      <td>0.028870</td>\n",
       "      <td>0.119300</td>\n",
       "      <td>0.137382</td>\n",
       "      <td>0.136201</td>\n",
       "      <td>0.482481</td>\n",
       "      <td>4557.0</td>\n",
       "      <td>4126.0</td>\n",
       "      <td>18797.0</td>\n",
       "    </tr>\n",
       "    <tr>\n",
       "      <th>2</th>\n",
       "      <td>0.002089</td>\n",
       "      <td>0.344670</td>\n",
       "      <td>0.386591</td>\n",
       "      <td>0.004461</td>\n",
       "      <td>0.042358</td>\n",
       "      <td>0.022055</td>\n",
       "      <td>0.285014</td>\n",
       "      <td>0.483722</td>\n",
       "      <td>NaN</td>\n",
       "      <td>NaN</td>\n",
       "      <td>NaN</td>\n",
       "    </tr>\n",
       "    <tr>\n",
       "      <th>3</th>\n",
       "      <td>0.000727</td>\n",
       "      <td>0.361454</td>\n",
       "      <td>0.410073</td>\n",
       "      <td>0.002988</td>\n",
       "      <td>0.019821</td>\n",
       "      <td>0.033001</td>\n",
       "      <td>0.470999</td>\n",
       "      <td>0.235189</td>\n",
       "      <td>383.0</td>\n",
       "      <td>839.0</td>\n",
       "      <td>2067.0</td>\n",
       "    </tr>\n",
       "    <tr>\n",
       "      <th>4</th>\n",
       "      <td>0.000272</td>\n",
       "      <td>0.313411</td>\n",
       "      <td>0.344271</td>\n",
       "      <td>0.000093</td>\n",
       "      <td>0.004358</td>\n",
       "      <td>0.008175</td>\n",
       "      <td>0.344444</td>\n",
       "      <td>0.055201</td>\n",
       "      <td>NaN</td>\n",
       "      <td>NaN</td>\n",
       "      <td>NaN</td>\n",
       "    </tr>\n",
       "    <tr>\n",
       "      <th>...</th>\n",
       "      <td>...</td>\n",
       "      <td>...</td>\n",
       "      <td>...</td>\n",
       "      <td>...</td>\n",
       "      <td>...</td>\n",
       "      <td>...</td>\n",
       "      <td>...</td>\n",
       "      <td>...</td>\n",
       "      <td>...</td>\n",
       "      <td>...</td>\n",
       "      <td>...</td>\n",
       "    </tr>\n",
       "    <tr>\n",
       "      <th>1219</th>\n",
       "      <td>0.000630</td>\n",
       "      <td>0.666667</td>\n",
       "      <td>0.750000</td>\n",
       "      <td>0.000000</td>\n",
       "      <td>0.000000</td>\n",
       "      <td>0.000000</td>\n",
       "      <td>0.000000</td>\n",
       "      <td>0.000063</td>\n",
       "      <td>175.0</td>\n",
       "      <td>265.0</td>\n",
       "      <td>4091.0</td>\n",
       "    </tr>\n",
       "    <tr>\n",
       "      <th>1220</th>\n",
       "      <td>0.000215</td>\n",
       "      <td>0.210674</td>\n",
       "      <td>0.219191</td>\n",
       "      <td>0.001612</td>\n",
       "      <td>0.000052</td>\n",
       "      <td>0.000000</td>\n",
       "      <td>0.000000</td>\n",
       "      <td>0.000083</td>\n",
       "      <td>272.0</td>\n",
       "      <td>515.0</td>\n",
       "      <td>5520.0</td>\n",
       "    </tr>\n",
       "    <tr>\n",
       "      <th>1221</th>\n",
       "      <td>0.001192</td>\n",
       "      <td>1.000000</td>\n",
       "      <td>1.000000</td>\n",
       "      <td>0.000001</td>\n",
       "      <td>0.000000</td>\n",
       "      <td>0.000000</td>\n",
       "      <td>0.000000</td>\n",
       "      <td>0.000115</td>\n",
       "      <td>NaN</td>\n",
       "      <td>NaN</td>\n",
       "      <td>NaN</td>\n",
       "    </tr>\n",
       "    <tr>\n",
       "      <th>1222</th>\n",
       "      <td>0.000294</td>\n",
       "      <td>0.213015</td>\n",
       "      <td>0.222589</td>\n",
       "      <td>0.000000</td>\n",
       "      <td>0.000010</td>\n",
       "      <td>0.000033</td>\n",
       "      <td>0.000000</td>\n",
       "      <td>0.000400</td>\n",
       "      <td>342.0</td>\n",
       "      <td>591.0</td>\n",
       "      <td>15381.0</td>\n",
       "    </tr>\n",
       "    <tr>\n",
       "      <th>1223</th>\n",
       "      <td>0.000172</td>\n",
       "      <td>0.198943</td>\n",
       "      <td>0.209426</td>\n",
       "      <td>0.000000</td>\n",
       "      <td>0.000071</td>\n",
       "      <td>0.000011</td>\n",
       "      <td>0.000000</td>\n",
       "      <td>0.000126</td>\n",
       "      <td>NaN</td>\n",
       "      <td>NaN</td>\n",
       "      <td>NaN</td>\n",
       "    </tr>\n",
       "  </tbody>\n",
       "</table>\n",
       "<p>1224 rows × 11 columns</p>\n",
       "</div>"
      ],
      "text/plain": [
       "      pageranks  closnesscentrality  harmonicclosnesscentrality  \\\n",
       "0      0.000266            0.320755                    0.355198   \n",
       "1      0.002817            0.410276                    0.508049   \n",
       "2      0.002089            0.344670                    0.386591   \n",
       "3      0.000727            0.361454                    0.410073   \n",
       "4      0.000272            0.313411                    0.344271   \n",
       "...         ...                 ...                         ...   \n",
       "1219   0.000630            0.666667                    0.750000   \n",
       "1220   0.000215            0.210674                    0.219191   \n",
       "1221   0.001192            1.000000                    1.000000   \n",
       "1222   0.000294            0.213015                    0.222589   \n",
       "1223   0.000172            0.198943                    0.209426   \n",
       "\n",
       "      betweenesscentrality  Authority       Hub  clustering  eigencentrality  \\\n",
       "0                 0.000001   0.005914  0.013885    0.620879         0.069047   \n",
       "1                 0.028870   0.119300  0.137382    0.136201         0.482481   \n",
       "2                 0.004461   0.042358  0.022055    0.285014         0.483722   \n",
       "3                 0.002988   0.019821  0.033001    0.470999         0.235189   \n",
       "4                 0.000093   0.004358  0.008175    0.344444         0.055201   \n",
       "...                    ...        ...       ...         ...              ...   \n",
       "1219              0.000000   0.000000  0.000000    0.000000         0.000063   \n",
       "1220              0.001612   0.000052  0.000000    0.000000         0.000083   \n",
       "1221              0.000001   0.000000  0.000000    0.000000         0.000115   \n",
       "1222              0.000000   0.000010  0.000033    0.000000         0.000400   \n",
       "1223              0.000000   0.000071  0.000011    0.000000         0.000126   \n",
       "\n",
       "      followers_count  friends_count  statuses_count  \n",
       "0                 NaN            NaN             NaN  \n",
       "1              4557.0         4126.0         18797.0  \n",
       "2                 NaN            NaN             NaN  \n",
       "3               383.0          839.0          2067.0  \n",
       "4                 NaN            NaN             NaN  \n",
       "...               ...            ...             ...  \n",
       "1219            175.0          265.0          4091.0  \n",
       "1220            272.0          515.0          5520.0  \n",
       "1221              NaN            NaN             NaN  \n",
       "1222            342.0          591.0         15381.0  \n",
       "1223              NaN            NaN             NaN  \n",
       "\n",
       "[1224 rows x 11 columns]"
      ]
     },
     "execution_count": 213,
     "metadata": {},
     "output_type": "execute_result"
    }
   ],
   "source": [
    "full_dataset"
   ]
  },
  {
   "cell_type": "markdown",
   "metadata": {},
   "source": [
    "# Sustituyo la información faltante por sus respectivas medias"
   ]
  },
  {
   "cell_type": "code",
   "execution_count": 214,
   "metadata": {
    "scrolled": true
   },
   "outputs": [],
   "source": [
    "full_dataset = full_dataset.fillna(full_dataset.mean())"
   ]
  },
  {
   "cell_type": "markdown",
   "metadata": {},
   "source": [
    "# Obtengo índices que tienen etiquetas"
   ]
  },
  {
   "cell_type": "code",
   "execution_count": 215,
   "metadata": {},
   "outputs": [
    {
     "data": {
      "text/plain": [
       "Int64Index([   5,   11,   12,   13,   14,   22,   23,   28,   29,   30,   34,\n",
       "              37,   38,   39,   41,   42,   45,   50,   51,   53,   54,   55,\n",
       "              56,   61,   62,   65,   68,   71,   72,   74,   89,  105,  112,\n",
       "             113,  120,  154,  209,  219,  248,  443,  518,  519,  522,  525,\n",
       "             529,  530,  544,  545,  547,  553,  569,  573,  601,  607,  612,\n",
       "             622,  631,  640,  644,  648,  661,  662,  666,  676,  677,  685,\n",
       "             695,  698,  764,  765,  780,  781,  793,  794,  795,  796,  805,\n",
       "             862,  887,  910,  912,  914,  935,  946,  947,  952,  955,  961,\n",
       "             967,  993, 1001, 1002],\n",
       "           dtype='int64')"
      ]
     },
     "execution_count": 215,
     "metadata": {},
     "output_type": "execute_result"
    }
   ],
   "source": [
    "index_of_labeled = labels[labels.notnull()].index\n",
    "index_of_labeled"
   ]
  },
  {
   "cell_type": "markdown",
   "metadata": {},
   "source": [
    "# Construyo matrix de etiquetas de 2xN con:  FA 0, CM 1, sin etiqueta: NaN"
   ]
  },
  {
   "cell_type": "code",
   "execution_count": 216,
   "metadata": {},
   "outputs": [
    {
     "data": {
      "text/plain": [
       "array([[nan, nan],\n",
       "       [nan, nan],\n",
       "       [nan, nan],\n",
       "       ...,\n",
       "       [nan, nan],\n",
       "       [nan, nan],\n",
       "       [nan, nan]])"
      ]
     },
     "execution_count": 216,
     "metadata": {},
     "output_type": "execute_result"
    }
   ],
   "source": [
    "valid_labels_cm = labels.values\n",
    "valid_labels_fa = 1 - valid_labels_cm\n",
    "labels_matrix = [valid_labels_fa, valid_labels_cm]\n",
    "labels_matrix = np.array(labels_matrix).transpose()\n",
    "labels_matrix"
   ]
  },
  {
   "cell_type": "markdown",
   "metadata": {},
   "source": [
    "# Normalizamo la data"
   ]
  },
  {
   "cell_type": "code",
   "execution_count": 217,
   "metadata": {},
   "outputs": [],
   "source": [
    "from sklearn import preprocessing\n",
    "\n",
    "x = full_dataset.values # returns a numpy array\n",
    "min_max_scaler = preprocessing.MinMaxScaler()\n",
    "x_scaled = min_max_scaler.fit_transform(x)\n",
    "scaled_labeled_dataset = pd.DataFrame(x_scaled)\n",
    "\n",
    "scaled_matrix = scaled_labeled_dataset.to_numpy()"
   ]
  },
  {
   "cell_type": "markdown",
   "metadata": {},
   "source": [
    "# Genero máscaras utilizando el arreglo de índices `index_of_nodes_with_info` y `labels` tomando índices aleatorios que contengan etiquetas"
   ]
  },
  {
   "cell_type": "code",
   "execution_count": 218,
   "metadata": {},
   "outputs": [],
   "source": [
    "np_index = np.array(index_of_labeled)\n",
    "np.random.shuffle(np_index)\n",
    "train_indices = np_index[1:72] # 80% para train\n",
    "test_indices = np_index[72:-1] # 20 % test y validación"
   ]
  },
  {
   "cell_type": "markdown",
   "metadata": {},
   "source": [
    "# Una vez obtenidos los índices, genero las máscaras"
   ]
  },
  {
   "cell_type": "code",
   "execution_count": 219,
   "metadata": {},
   "outputs": [],
   "source": [
    "training_mask = np.zeros((len(labels),),dtype=bool)\n",
    "testing_mask = np.zeros((len(labels),),dtype=bool)\n",
    "validating_mask = np.zeros((len(labels),),dtype=bool)\n",
    "\n",
    "training_mask[train_indices] = True\n",
    "testing_mask[test_indices] = True\n",
    "validating_mask[test_indices] = True"
   ]
  },
  {
   "cell_type": "markdown",
   "metadata": {},
   "source": [
    "# Imprimo formas de las entradas para verificar correctitud"
   ]
  },
  {
   "cell_type": "code",
   "execution_count": 220,
   "metadata": {},
   "outputs": [
    {
     "data": {
      "text/plain": [
       "((1224, 1224), (1224, 11), (1224, 2))"
      ]
     },
     "execution_count": 220,
     "metadata": {},
     "output_type": "execute_result"
    }
   ],
   "source": [
    "adj_matrix.shape, scaled_matrix.shape, labels_matrix.shape"
   ]
  },
  {
   "cell_type": "code",
   "execution_count": 221,
   "metadata": {},
   "outputs": [
    {
     "data": {
      "text/plain": [
       "((1224,), (1224,), (1224,))"
      ]
     },
     "execution_count": 221,
     "metadata": {},
     "output_type": "execute_result"
    }
   ],
   "source": [
    "training_mask.shape, testing_mask.shape, validating_mask.shape"
   ]
  },
  {
   "cell_type": "code",
   "execution_count": 223,
   "metadata": {
    "scrolled": true
   },
   "outputs": [
    {
     "name": "stdout",
     "output_type": "stream",
     "text": [
      "Model: \"functional_37\"\n",
      "__________________________________________________________________________________________________\n",
      "Layer (type)                    Output Shape         Param #     Connected to                     \n",
      "==================================================================================================\n",
      "input_39 (InputLayer)           [(None, 11)]         0                                            \n",
      "__________________________________________________________________________________________________\n",
      "dropout_37 (Dropout)            (None, 11)           0           input_39[0][0]                   \n",
      "__________________________________________________________________________________________________\n",
      "input_40 (InputLayer)           [(None, 1224)]       0                                            \n",
      "__________________________________________________________________________________________________\n",
      "graph_conv_36 (GraphConv)       (None, 16)           176         dropout_37[0][0]                 \n",
      "                                                                 input_40[0][0]                   \n",
      "__________________________________________________________________________________________________\n",
      "dropout_38 (Dropout)            (None, 16)           0           graph_conv_36[0][0]              \n",
      "__________________________________________________________________________________________________\n",
      "graph_conv_37 (GraphConv)       (None, 2)            32          dropout_38[0][0]                 \n",
      "                                                                 input_40[0][0]                   \n",
      "==================================================================================================\n",
      "Total params: 208\n",
      "Trainable params: 208\n",
      "Non-trainable params: 0\n",
      "__________________________________________________________________________________________________\n",
      "Epoch 1/20\n",
      "1/1 [==============================] - 0s 209ms/step - loss: nan - acc: 0.5493 - val_loss: nan - val_acc: 0.2105\n",
      "Epoch 2/20\n",
      "1/1 [==============================] - 0s 18ms/step - loss: nan - acc: 0.4507 - val_loss: nan - val_acc: 0.2105\n",
      "Epoch 3/20\n",
      "1/1 [==============================] - 0s 18ms/step - loss: nan - acc: 0.4507 - val_loss: nan - val_acc: 0.2105\n",
      "Epoch 4/20\n",
      "1/1 [==============================] - 0s 19ms/step - loss: nan - acc: 0.4507 - val_loss: nan - val_acc: 0.2105\n",
      "Epoch 5/20\n",
      "1/1 [==============================] - 0s 19ms/step - loss: nan - acc: 0.4507 - val_loss: nan - val_acc: 0.2105\n",
      "Epoch 6/20\n",
      "1/1 [==============================] - 0s 18ms/step - loss: nan - acc: 0.4507 - val_loss: nan - val_acc: 0.2105\n",
      "Epoch 7/20\n",
      "1/1 [==============================] - 0s 19ms/step - loss: nan - acc: 0.4507 - val_loss: nan - val_acc: 0.2105\n",
      "Epoch 8/20\n",
      "1/1 [==============================] - 0s 18ms/step - loss: nan - acc: 0.4507 - val_loss: nan - val_acc: 0.2105\n",
      "Epoch 9/20\n",
      "1/1 [==============================] - 0s 17ms/step - loss: nan - acc: 0.4507 - val_loss: nan - val_acc: 0.2105\n",
      "Epoch 10/20\n",
      "1/1 [==============================] - 0s 18ms/step - loss: nan - acc: 0.4507 - val_loss: nan - val_acc: 0.2105\n",
      "Epoch 11/20\n",
      "1/1 [==============================] - 0s 18ms/step - loss: nan - acc: 0.4507 - val_loss: nan - val_acc: 0.2105\n",
      "Epoch 12/20\n",
      "1/1 [==============================] - 0s 19ms/step - loss: nan - acc: 0.4507 - val_loss: nan - val_acc: 0.2105\n",
      "Epoch 13/20\n",
      "1/1 [==============================] - 0s 18ms/step - loss: nan - acc: 0.4507 - val_loss: nan - val_acc: 0.2105\n",
      "Epoch 14/20\n",
      "1/1 [==============================] - 0s 18ms/step - loss: nan - acc: 0.4507 - val_loss: nan - val_acc: 0.2105\n",
      "Epoch 15/20\n",
      "1/1 [==============================] - 0s 18ms/step - loss: nan - acc: 0.4507 - val_loss: nan - val_acc: 0.2105\n",
      "Epoch 16/20\n",
      "1/1 [==============================] - 0s 18ms/step - loss: nan - acc: 0.4507 - val_loss: nan - val_acc: 0.2105\n",
      "Epoch 17/20\n",
      "1/1 [==============================] - 0s 22ms/step - loss: nan - acc: 0.4507 - val_loss: nan - val_acc: 0.2105\n",
      "Epoch 18/20\n",
      "1/1 [==============================] - 0s 19ms/step - loss: nan - acc: 0.4507 - val_loss: nan - val_acc: 0.2105\n",
      "Epoch 19/20\n",
      "1/1 [==============================] - 0s 18ms/step - loss: nan - acc: 0.4507 - val_loss: nan - val_acc: 0.2105\n",
      "Epoch 20/20\n",
      "1/1 [==============================] - 0s 17ms/step - loss: nan - acc: 0.4507 - val_loss: nan - val_acc: 0.2105\n",
      "Evaluating model.\n",
      "1/1 [==============================] - 0s 899us/step - loss: nan - acc: 0.2105\n",
      "Done.\n",
      "Test loss: nan\n",
      "Test accuracy: 0.21052631735801697\n"
     ]
    }
   ],
   "source": [
    "from tensorflow.keras.callbacks import EarlyStopping\n",
    "from tensorflow.keras.layers import Input, Dropout\n",
    "from tensorflow.keras.models import Model\n",
    "from tensorflow.keras.optimizers import Adam\n",
    "from tensorflow.keras.regularizers import l2\n",
    "\n",
    "from spektral.layers import GraphConv\n",
    "\n",
    "# Load data\n",
    "A = adj_matrix\n",
    "X = scaled_matrix\n",
    "y = labels_matrix\n",
    "train_mask = training_mask\n",
    "val_mask = validating_mask\n",
    "test_mask = testing_mask\n",
    "\n",
    "\n",
    "# Parameters\n",
    "channels = 16           # Number of channels in the first layer\n",
    "N = X.shape[0]          # Number of nodes in the graph\n",
    "F = X.shape[1]          # Original size of node features\n",
    "n_classes = 2           # Number of classes\n",
    "dropout = 0.01           # Dropout rate for the features\n",
    "l2_reg = 5e-4 / 2       # L2 regularization rate\n",
    "learning_rate = 1e-3    # Learning rate > => < epochs\n",
    "epochs = 20             # Number of training epochs\n",
    "\n",
    "# Preprocessing operations\n",
    "fltr = GraphConv.preprocess(A).astype('f4')\n",
    "#X = X.toarray()\n",
    "\n",
    "# Model definition\n",
    "X_in = Input(shape=(F, ))\n",
    "fltr_in = Input((N, ), sparse=True)\n",
    "\n",
    "dropout_1 = Dropout(dropout)(X_in)\n",
    "graph_conv_1 = GraphConv(channels,\n",
    "                         activation='relu',\n",
    "                         kernel_regularizer=l2(l2_reg),\n",
    "                         use_bias=False)([dropout_1, fltr_in])\n",
    "dropout_2 = Dropout(dropout)(graph_conv_1)\n",
    "graph_conv_2 = GraphConv(n_classes,\n",
    "                         activation='softmax',\n",
    "                         use_bias=False)([dropout_2, fltr_in])\n",
    "\n",
    "# Build model\n",
    "model = Model(inputs=[X_in, fltr_in], outputs=graph_conv_2)\n",
    "optimizer = Adam(lr=learning_rate)\n",
    "model.compile(optimizer=optimizer,\n",
    "              loss='categorical_crossentropy',\n",
    "              weighted_metrics=['acc'])\n",
    "model.summary()\n",
    "\n",
    "# Train model\n",
    "validation_data = ([X, fltr], y, val_mask)\n",
    "model.fit([X, fltr],\n",
    "          y,\n",
    "          sample_weight=train_mask,\n",
    "          epochs=epochs,\n",
    "          batch_size=N,\n",
    "          validation_data=validation_data,\n",
    "          shuffle=False)\n",
    "\n",
    "# Evaluate model\n",
    "print('Evaluating model.')\n",
    "eval_results = model.evaluate([X, fltr],\n",
    "                              y,\n",
    "                              sample_weight=test_mask,\n",
    "                              batch_size=N)\n",
    "print('Done.\\n'\n",
    "      'Test loss: {}\\n'\n",
    "      'Test accuracy: {}'.format(*eval_results))"
   ]
  },
  {
   "cell_type": "code",
   "execution_count": 200,
   "metadata": {},
   "outputs": [
    {
     "data": {
      "text/plain": [
       "((1224, 11), (1224, 1224))"
      ]
     },
     "execution_count": 200,
     "metadata": {},
     "output_type": "execute_result"
    }
   ],
   "source": [
    "X.shape, fltr.shape"
   ]
  },
  {
   "cell_type": "code",
   "execution_count": null,
   "metadata": {},
   "outputs": [],
   "source": []
  }
 ],
 "metadata": {
  "kernelspec": {
   "display_name": "Python 3",
   "language": "python",
   "name": "python3"
  },
  "language_info": {
   "codemirror_mode": {
    "name": "ipython",
    "version": 3
   },
   "file_extension": ".py",
   "mimetype": "text/x-python",
   "name": "python",
   "nbconvert_exporter": "python",
   "pygments_lexer": "ipython3",
   "version": "3.7.7"
  }
 },
 "nbformat": 4,
 "nbformat_minor": 2
}
