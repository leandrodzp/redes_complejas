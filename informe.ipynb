{
 "cells": [
  {
   "cell_type": "markdown",
   "metadata": {},
   "source": [
    "# Recaudación y análisis de información política a través de la red de Twitter"
   ]
  },
  {
   "cell_type": "markdown",
   "metadata": {},
   "source": [
    "***\n",
    "\n",
    "## Índice\n",
    "\n",
    "1. Introducción\n",
    "2. Preámbulo\n",
    "3. Data scraping\n",
    "   1. Elección de usuarios\n",
    "   2. Recolección de la red de usuarios\n",
    "   3. Recolección de información de los usuarios\n",
    "4. Análisis de atributos obtenidos\n",
    "\n",
    "5. Análisis macro de la red obtenida\n",
    "   1. Análisis de comunidades en la red\n",
    "      1. Primera intuición\n",
    "      2. Algoritmo de modularidad provisto por Gephi\n",
    "      3. Estudio de orientación política de los usuarios de la red mediante etiquetado manual\n",
    "      4. Predicciones usando Graph Neural Networks\n",
    "\n",
    "6. Análisis de los actores de la red según distintas centralidades\n",
    "7. Conclusiones\n",
    "8. Trabajo futuro\n",
    "\n",
    "---"
   ]
  },
  {
   "cell_type": "markdown",
   "metadata": {},
   "source": [
    "## 1. Introducción"
   ]
  },
  {
   "cell_type": "markdown",
   "metadata": {},
   "source": [
    "En los últimos años se ha visto una gran [tendencia a la polarización](https://ideas.repec.org/p/ces/ceswps/_1798.html) social a nivel mundial. Varios autores plantean que las redes sociales y cómo interactuamos con ellas [juegan un papel fundamental en esta polarización](https://greatergood.berkeley.edu/article/item/is_social_media_driving_political_polarization), siendo que las mismas facilitan (por su naturaleza) la propiedad de asortatividad u homofilia (tendencia que tienen los nodos de una red a unirse a otros que le son similares en alguna característica).\n",
    "\n",
    "Estamos a un sólo click de dejar de ver contenido que nos resulta irrelevante, molesto o simplemente no está alineado con nuestro pensar. A su vez, los algoritmos de descubrimiento de las redes sociales se alimentan de esta información para sugerirnos más contenido de nuestro agrado con el afán de ganar nuestra atención y con esto aumentar su valor al poder venderle publicidad cada vez más segmentada a los anunciantes: es más probable que una persona que consume contenido de usuarios que promueven productos veganos compre un nuevo producto vegano a que un usuario consumidor de carne lo haga.\n",
    "\n",
    "Nuestra región no es ajena a ninguna de las características descriptas en los anteriores párrafos. La cantidad de usuarios activos en las redes sociales ha aumentado año a año así como la polarización (más conocida como [la grieta](https://es.wikipedia.org/wiki/La_grieta_%28Argentina%29) en nuestra región). En las [pasadas elecciones presidenciales](https://es.wikipedia.org/wiki/Elecciones_generales_de_Uruguay_de_2019), Uruguay también ha seguido esta tendencia habiéndose conformado una especie de bipartidismo con la conformación de la nueva [Coalición Multicolor](https://es.wikipedia.org/wiki/Coalici%C3%B3n_Multicolor) cuyo objetivo fue evitar el continuismo del Partido que gobernó durante 15 años nuestro país: el [Frente Amplio](https://es.wikipedia.org/wiki/Frente_Amplio_(Uruguay)).\n",
    "\n",
    "El pasado domingo 27 de setiembre del 2020 se celebraron las Elecciones Departamentales y Municipales en Uruguay. Por tal motivo, las redes no estuvieron exentas de debate en los días previos frente a distintos acontecimientos.\n",
    "En el presente informe se intentó recolectar y analizar información de la red Twitter para analizar el fenómeno anteriormente descripto en nuestro país utilizando herramientas de Social Network Análisis.\n",
    "\n",
    "Durante este proyecto se creará una red de usuarios de Twitter en Uruguay utilizando [la API oficial de Twitter](https://developer.twitter.com/en/products/twitter-api) para su posterior estudio. Dicha API tiene muchas restricciones y limitaciones (por ejemplo: el _endpoint_ para obtener los seguidores de un usuario admite 15 requests cada 15 minutos, donde cada request devuelve a lo sumo 100 seguidores), por lo que obtener y darle forma de grafo a los datos llevará un tiempo significativo del trabajo.\n",
    "\n",
    "#### Como motivación se intentará responder las siguientes preguntas:\n",
    "- ¿Hay usuarios más influyentes en esta red? ¿Cuáles son?\n",
    "- ¿Los usuarios de Twitter forman comunidades por afinidades políticas?\n",
    "- ¿Qué tamaño suelen tener estas comunidades?\n",
    "- ¿Existen comunidades aisladas del resto? ¿Qué tan aisladas están?\n",
    "- ¿Es posible clusterizar a los usuarios según afinidad política a la Coalición Multicolor o al Frente Amplio?\n",
    "\n",
    "---"
   ]
  },
  {
   "cell_type": "markdown",
   "metadata": {},
   "source": [
    "## 2. Preámbulo"
   ]
  },
  {
   "cell_type": "markdown",
   "metadata": {},
   "source": [
    "El [Social network Analysis](https://es.wikipedia.org/wiki/An%C3%A1lisis_de_redes_sociales) es el proceso de investigar estructuras sociales mediante el uso de redes y la teoría de grafos. Las redes están compuestas de nodos y enlaces que los unen. El objetivo es analizar este conjunto estudiando los subgrupos de afinidades, la centralidad o importancia relativa de los nodos, su relevancia y qué rol juegan en dicha red, entre otros aspectos que sean pertinentes en cada caso.\n",
    "\n",
    "Los nodos de la red representan a los personajes, actores, grupos o lo que se quiera modelar, y los enlaces representan relaciones existentes entre estas entidades que interactúan en la red.\n",
    "\n",
    "***"
   ]
  },
  {
   "cell_type": "markdown",
   "metadata": {},
   "source": [
    "## 3. Data scraping\n",
    "\n",
    "### 3.A) Elección de usuarios\n",
    "Según trabajos previos consultados, cuando se quiere recabar información de una región en particular, se recomienda utilizar la [funcionalidad de recuperación de información por texto](https://developer.twitter.com/en/docs/twitter-api/v1/tweets/search/api-reference/get-search-tweets) que brinda la API de Twitter utilizando un _tema de nicho_ característico de la población a estudiar. Este _endpoint_ nos permite recuperar todos los tweets de los últimos siete días que contengan determinado texto en él.\n",
    "\n",
    "Inicialmente se eligió recuperar toda la información de los tweets que contuvieran el _hashtag_ **#EleccionesDepartamentales2020**. Cuando comenzó el estudio de dicha información, tuvo que ser descartada ya que se notó que un porcentaje muy grande de los que usaban este _hashtag_ eran cuentas oficiales de medios de comunicación y no tanto usuarios particulares. Por este motivo, y dada la cercanía con la realización de la [Rural del Prado](https://www.expoprado.com/programas-2020/) y la polémica generada por los [cuestionados protocolos sanitarios incumplidos](https://ladiaria.com.uy/politica/articulo/2020/9/intendencia-de-montevideo-sancionara-a-la-aru-por-incumplir-protocolo-sanitario-en-la-expo-prado/), se prosiguió a recabar la información de los tuits que contuvieran la expresión exacta **\"Rural del Prado\"**."
   ]
  },
  {
   "cell_type": "markdown",
   "metadata": {},
   "source": [
    "### 3.B) Recolección de la red de usuarios\n",
    "Se importan las librerías para el manejo de información. Se utiliza la biblioteca **tweepy** para realizar la comunicación con la API de Twitter de forma más sencilla:"
   ]
  },
  {
   "cell_type": "code",
   "execution_count": 1,
   "metadata": {},
   "outputs": [],
   "source": [
    "import tweepy\n",
    "import csv\n",
    "import pandas as pd\n",
    "import time\n",
    "import sys"
   ]
  },
  {
   "cell_type": "markdown",
   "metadata": {},
   "source": [
    "Para hacer efectiva la recolección de información se tuvo que aplicar para obtener una cuenta de Desarrollador en Twitter en el [presente link](https://developer.twitter.com/en/apply-for-access) y una vez aprobada se obtuvieron credenciales para acceder a la API (las cuales serán modificadas en el presente informe por obvias razones)."
   ]
  },
  {
   "cell_type": "code",
   "execution_count": 3,
   "metadata": {},
   "outputs": [],
   "source": [
    "# Credenciales de la API de Twitter modificadas\n",
    "consumer_key = \"1ORGJsOKT6h6GkLR2a6G\"\n",
    "consumer_secret = \"wqiy783awcqSxsJHq3XKXU9wcqrmxfp6HHoqd9BrWnAe\"\n",
    "access_key = \"218970468-v43uk19hYaNto5XuwaN3Zj3yGJueYtyK5eVA\"\n",
    "access_secret = \"IQyJhTs27has3oRA2Fa7OEkj1FpjSbvXJTvAK\""
   ]
  },
  {
   "cell_type": "markdown",
   "metadata": {},
   "source": [
    "Se configura el objeto encargado de gestionar la conexión con la API de Twitter utilizando las credenciales obtenidas luego de que la cuenta de desarrollador fuera aprobada. Vale destacar que la librería **tweepy** permite configurar el parámetro **wait_on_rate_limit** que se encarga de esperar el tiempo necesario cada vez que se vence el _rate_ de pedidos a la API gratuita de Twitter, evitando así que la cuenta de desarrollador sea bloqueada por pedidos excesivos."
   ]
  },
  {
   "cell_type": "code",
   "execution_count": 4,
   "metadata": {},
   "outputs": [],
   "source": [
    "OAUTH_KEYS = {'consumer_key':consumer_key, 'consumer_secret':consumer_secret, 'access_token_key':access_key, 'access_token_secret':access_secret}\n",
    "auth = tweepy.OAuthHandler(OAUTH_KEYS['consumer_key'], OAUTH_KEYS['consumer_secret'])\n",
    "api = tweepy.API(auth, wait_on_rate_limit=True, wait_on_rate_limit_notify=True)"
   ]
  },
  {
   "cell_type": "markdown",
   "metadata": {},
   "source": [
    "Se configura la búsqueda a realizar, trayendo los últimos 4000 tweets que contienen la query **Rural del Prado** en ellos."
   ]
  },
  {
   "cell_type": "code",
   "execution_count": null,
   "metadata": {},
   "outputs": [],
   "source": [
    "search = tweepy.Cursor(api.search, q='Rural del Prado').items(4000)"
   ]
  },
  {
   "cell_type": "markdown",
   "metadata": {},
   "source": [
    "A continuación se muestran algunos tweets recabados"
   ]
  },
  {
   "cell_type": "code",
   "execution_count": 2,
   "metadata": {},
   "outputs": [
    {
     "data": {
      "text/html": [
       "<div>\n",
       "<style scoped>\n",
       "    .dataframe tbody tr th:only-of-type {\n",
       "        vertical-align: middle;\n",
       "    }\n",
       "\n",
       "    .dataframe tbody tr th {\n",
       "        vertical-align: top;\n",
       "    }\n",
       "\n",
       "    .dataframe thead th {\n",
       "        text-align: right;\n",
       "    }\n",
       "</style>\n",
       "<table border=\"1\" class=\"dataframe\">\n",
       "  <thead>\n",
       "    <tr style=\"text-align: right;\">\n",
       "      <th></th>\n",
       "      <th>screen_names</th>\n",
       "      <th>texts</th>\n",
       "    </tr>\n",
       "  </thead>\n",
       "  <tbody>\n",
       "    <tr>\n",
       "      <th>321</th>\n",
       "      <td>MMartinez_V</td>\n",
       "      <td>RT @aguslopez97: Bo que onda esa doble moral p...</td>\n",
       "    </tr>\n",
       "    <tr>\n",
       "      <th>2234</th>\n",
       "      <td>MariaPe07593237</td>\n",
       "      <td>RT @sebas166019: Monseñor Sturla estuvo en la ...</td>\n",
       "    </tr>\n",
       "    <tr>\n",
       "      <th>2066</th>\n",
       "      <td>clau_gomez33</td>\n",
       "      <td>RT @Rusticaaa: Y en la rural del prado entran ...</td>\n",
       "    </tr>\n",
       "    <tr>\n",
       "      <th>311</th>\n",
       "      <td>mathiascamia2</td>\n",
       "      <td>RT @AlfTuitea: Para la próxima ya sabemos, que...</td>\n",
       "    </tr>\n",
       "    <tr>\n",
       "      <th>2642</th>\n",
       "      <td>Patricia110011</td>\n",
       "      <td>RT @ObservadorAgro: \"Lo raro sería que el gobi...</td>\n",
       "    </tr>\n",
       "    <tr>\n",
       "      <th>337</th>\n",
       "      <td>Ilimepa</td>\n",
       "      <td>RT @AlfTuitea: Para la próxima ya sabemos, que...</td>\n",
       "    </tr>\n",
       "    <tr>\n",
       "      <th>246</th>\n",
       "      <td>AnaJesu40725925</td>\n",
       "      <td>RT @gera_nunez1001: Mucho indignado con la mar...</td>\n",
       "    </tr>\n",
       "    <tr>\n",
       "      <th>1833</th>\n",
       "      <td>MaccioRolly</td>\n",
       "      <td>Los mismos que se molestaron por la rural del ...</td>\n",
       "    </tr>\n",
       "    <tr>\n",
       "      <th>1248</th>\n",
       "      <td>Mica_Carrea</td>\n",
       "      <td>RT @freedomparadyse: che, por la rural del pra...</td>\n",
       "    </tr>\n",
       "    <tr>\n",
       "      <th>2736</th>\n",
       "      <td>NiFulana</td>\n",
       "      <td>RT @sebas166019: No fue presidente de la ARU. ...</td>\n",
       "    </tr>\n",
       "  </tbody>\n",
       "</table>\n",
       "</div>"
      ],
      "text/plain": [
       "         screen_names                                              texts\n",
       "321       MMartinez_V  RT @aguslopez97: Bo que onda esa doble moral p...\n",
       "2234  MariaPe07593237  RT @sebas166019: Monseñor Sturla estuvo en la ...\n",
       "2066     clau_gomez33  RT @Rusticaaa: Y en la rural del prado entran ...\n",
       "311     mathiascamia2  RT @AlfTuitea: Para la próxima ya sabemos, que...\n",
       "2642   Patricia110011  RT @ObservadorAgro: \"Lo raro sería que el gobi...\n",
       "337           Ilimepa  RT @AlfTuitea: Para la próxima ya sabemos, que...\n",
       "246   AnaJesu40725925  RT @gera_nunez1001: Mucho indignado con la mar...\n",
       "1833      MaccioRolly  Los mismos que se molestaron por la rural del ...\n",
       "1248      Mica_Carrea  RT @freedomparadyse: che, por la rural del pra...\n",
       "2736         NiFulana  RT @sebas166019: No fue presidente de la ARU. ..."
      ]
     },
     "execution_count": 2,
     "metadata": {},
     "output_type": "execute_result"
    }
   ],
   "source": [
    "df = pd.read_csv(\"tweets_rural_del_prado.csv\")\n",
    "df.sample(10)"
   ]
  },
  {
   "cell_type": "code",
   "execution_count": 3,
   "metadata": {},
   "outputs": [
    {
     "data": {
      "text/plain": [
       "2579"
      ]
     },
     "execution_count": 3,
     "metadata": {},
     "output_type": "execute_result"
    }
   ],
   "source": [
    "len(df['screen_names'].unique())"
   ]
  },
  {
   "cell_type": "markdown",
   "metadata": {},
   "source": [
    "Creamos una lista con los nombres de usuarios sin repetir para luego iterar sobre ellos y obtener la lista de a quiénes sigue cada uno. La elección de obtener la lista de a quién sigue una cuenta, en lugar de sus seguidores es intencional. Si bien cualquiera de las dos opciones debería funcionar, la mayoría de los usuarios de Twitter siguen menos personas de las que lo siguen, especialmente los influyentes y famosos. De esta forma reducimos el número de llamadas a la API de Twitter.\n",
    "\n",
    "**_La siguiente ejecución tomó al rededor de una semana, con varias caídas de conexión y el uso de técnicas para continuar la recolección donde la misma se había caído. De todas formas se presenta la primera versión del código para facilitar su lectura_.**"
   ]
  },
  {
   "cell_type": "code",
   "execution_count": null,
   "metadata": {},
   "outputs": [],
   "source": [
    "all_names = list(df['screen_names'].unique())\n",
    "nameCount = len(all_names)\n",
    "count = 0\n",
    "\n",
    "for name in all_names:\n",
    "    # Construcción de usuarios seguidos  \n",
    "    currentFriends = []\n",
    "    for page in tweepy.Cursor(api.friends_ids, screen_name=name).pages():\n",
    "        currentFriends.extend(page)\n",
    "    currentId = api.get_user(screen_name=name).id\n",
    "    currentId = [currentId] * len(currentFriends)\n",
    "    currentName = [name] * len(currentFriends)   \n",
    "    dfTemp = pd.DataFrame()\n",
    "    dfTemp['userFromName'] = currentName\n",
    "    dfTemp['userFromId'] = currentId\n",
    "    dfTemp['userToId'] = currentFriends\n",
    "    dfUsers = pd.concat([dfUsers,dfTemp])\n",
    "    count +=1\n",
    "    per = round(count*100.0/nameCount,1)\n",
    "    sys.stdout.write(\"\\r %s%% completado.\" % per)\n",
    "    sys.stdout.flush()  "
   ]
  },
  {
   "cell_type": "markdown",
   "metadata": {},
   "source": [
    "Se hacen algunas modificaciones al dataframe para que sea más fácil la construcción de un grafo en el siguiente paso:\n",
    "\n",
    "En la columna `userFromId` se tiene el id del usuario que sigue al usuario `userToId`. Con esta información y la de sus nombres de usuarios contenidos en `userFromName` y `userToName` se construirá el grafo de la red."
   ]
  },
  {
   "cell_type": "code",
   "execution_count": null,
   "metadata": {},
   "outputs": [],
   "source": [
    "fromId = dfUsers['userFromId'].unique()\n",
    "dfChat = dfUsers[dfUsers['userToId'].apply(lambda x: x in fromId)]\n",
    "dfLookup = dfChat[['userFromName','userFromId']]\n",
    "dfLookup = dfLookup.drop_duplicates()\n",
    "dfLookup.columns = ['userToName','userToId']\n",
    "dfCommunity = dfUsers.merge(dfLookup, on='userToId')"
   ]
  },
  {
   "cell_type": "markdown",
   "metadata": {},
   "source": [
    "#### Aquí se muestra cómo queda el archivo con la información que formará la red a estudiar"
   ]
  },
  {
   "cell_type": "code",
   "execution_count": 3,
   "metadata": {},
   "outputs": [
    {
     "data": {
      "text/html": [
       "<div>\n",
       "<style scoped>\n",
       "    .dataframe tbody tr th:only-of-type {\n",
       "        vertical-align: middle;\n",
       "    }\n",
       "\n",
       "    .dataframe tbody tr th {\n",
       "        vertical-align: top;\n",
       "    }\n",
       "\n",
       "    .dataframe thead th {\n",
       "        text-align: right;\n",
       "    }\n",
       "</style>\n",
       "<table border=\"1\" class=\"dataframe\">\n",
       "  <thead>\n",
       "    <tr style=\"text-align: right;\">\n",
       "      <th></th>\n",
       "      <th>userFromName</th>\n",
       "      <th>userToName</th>\n",
       "    </tr>\n",
       "  </thead>\n",
       "  <tbody>\n",
       "    <tr>\n",
       "      <th>6531</th>\n",
       "      <td>getchandy</td>\n",
       "      <td>miguelc471</td>\n",
       "    </tr>\n",
       "    <tr>\n",
       "      <th>14418</th>\n",
       "      <td>Lahamgatt</td>\n",
       "      <td>marygambler</td>\n",
       "    </tr>\n",
       "    <tr>\n",
       "      <th>1352</th>\n",
       "      <td>LizetElizabeth</td>\n",
       "      <td>diegodelacurva</td>\n",
       "    </tr>\n",
       "    <tr>\n",
       "      <th>5296</th>\n",
       "      <td>Eduardo03199510</td>\n",
       "      <td>jgsp12071979</td>\n",
       "    </tr>\n",
       "    <tr>\n",
       "      <th>17833</th>\n",
       "      <td>MonicaBatlle4</td>\n",
       "      <td>PabloUrquizo</td>\n",
       "    </tr>\n",
       "    <tr>\n",
       "      <th>1954</th>\n",
       "      <td>Lahamgatt</td>\n",
       "      <td>JUrruzola</td>\n",
       "    </tr>\n",
       "    <tr>\n",
       "      <th>12185</th>\n",
       "      <td>rhunlander</td>\n",
       "      <td>PNACIONAL</td>\n",
       "    </tr>\n",
       "    <tr>\n",
       "      <th>2493</th>\n",
       "      <td>PosseNancy59</td>\n",
       "      <td>RominaPesce5</td>\n",
       "    </tr>\n",
       "    <tr>\n",
       "      <th>13163</th>\n",
       "      <td>AliciaB11037130</td>\n",
       "      <td>kamba_lucy</td>\n",
       "    </tr>\n",
       "    <tr>\n",
       "      <th>8668</th>\n",
       "      <td>LUISGILTORRES19</td>\n",
       "      <td>unpescador</td>\n",
       "    </tr>\n",
       "  </tbody>\n",
       "</table>\n",
       "</div>"
      ],
      "text/plain": [
       "          userFromName      userToName\n",
       "6531         getchandy      miguelc471\n",
       "14418        Lahamgatt     marygambler\n",
       "1352    LizetElizabeth  diegodelacurva\n",
       "5296   Eduardo03199510    jgsp12071979\n",
       "17833    MonicaBatlle4    PabloUrquizo\n",
       "1954         Lahamgatt       JUrruzola\n",
       "12185       rhunlander       PNACIONAL\n",
       "2493      PosseNancy59    RominaPesce5\n",
       "13163  AliciaB11037130      kamba_lucy\n",
       "8668   LUISGILTORRES19      unpescador"
      ]
     },
     "execution_count": 3,
     "metadata": {},
     "output_type": "execute_result"
    }
   ],
   "source": [
    "df = pd.read_csv(\"dfCommunity_rural_2.csv\")\n",
    "df.sample(10)[['userFromName', 'userToName']]"
   ]
  },
  {
   "cell_type": "markdown",
   "metadata": {},
   "source": [
    "### 3.C) Recolección de información de los usuarios"
   ]
  },
  {
   "cell_type": "markdown",
   "metadata": {},
   "source": [
    "Utilizando la API de Twitter nuevamente, se recupera la escasa información que provee dicha red de cada nodo para lograr comprender más los datos y tener más herramientas para su futura clasificación.\n",
    "\n",
    "#### Es por esto que se construye el siguiente script que recauda información de los nodos recuperados en la sección anterior para proceder con el estudio de los datos:"
   ]
  },
  {
   "cell_type": "code",
   "execution_count": null,
   "metadata": {},
   "outputs": [],
   "source": [
    "comunidad = pd.read_csv('dfCommunity_rural_2.csv')\n",
    "lista_1 = comunidad['userFromId'].tolist()\n",
    "lista_2 = comunidad['userToId'].tolist()\n",
    "ids_unicos = list(set(lista_1 + lista_2))\n",
    "\n",
    "batches = np.array_split(np.array(ids_unicos), 13)\n",
    "res = []\n",
    "for batch in batches:\n",
    "    res.append(api.lookup_users(user_id=','.join(list(map(str,batch.astype(int))))))\n",
    "\n",
    "users_objects = []\n",
    "for batch in res:\n",
    "    for user in batch:\n",
    "        users_objects.append(user)\n",
    "\n",
    "columns = ['id_str', 'screen_name', 'location', 'description', 'protected', 'verified', 'followers_count', 'friends_count', 'statuses_count', 'created_at']\n",
    "users = pd.DataFrame(columns=columns)\n",
    "for user in users_objects:\n",
    "    row = pd.Series({'id_str': user.id_str, 'screen_name': user.screen_name, 'location': user.location, 'description': user.description, 'protected': user.protected, 'verified':user.verified, 'followers_count':user.followers_count, 'friends_count': user.friends_count, 'created_at': user.created_at, 'statuses_count':user.statuses_count})\n",
    "    users = users.append(row,ignore_index=True)\n",
    "users.to_csv('users_info.csv', index = False)"
   ]
  },
  {
   "cell_type": "code",
   "execution_count": 5,
   "metadata": {},
   "outputs": [
    {
     "data": {
      "text/html": [
       "<div>\n",
       "<style scoped>\n",
       "    .dataframe tbody tr th:only-of-type {\n",
       "        vertical-align: middle;\n",
       "    }\n",
       "\n",
       "    .dataframe tbody tr th {\n",
       "        vertical-align: top;\n",
       "    }\n",
       "\n",
       "    .dataframe thead th {\n",
       "        text-align: right;\n",
       "    }\n",
       "</style>\n",
       "<table border=\"1\" class=\"dataframe\">\n",
       "  <thead>\n",
       "    <tr style=\"text-align: right;\">\n",
       "      <th></th>\n",
       "      <th>id_str</th>\n",
       "      <th>screen_name</th>\n",
       "      <th>location</th>\n",
       "      <th>description</th>\n",
       "      <th>protected</th>\n",
       "      <th>verified</th>\n",
       "      <th>followers_count</th>\n",
       "      <th>friends_count</th>\n",
       "      <th>statuses_count</th>\n",
       "      <th>created_at</th>\n",
       "    </tr>\n",
       "  </thead>\n",
       "  <tbody>\n",
       "    <tr>\n",
       "      <th>0</th>\n",
       "      <td>1192212972497784832</td>\n",
       "      <td>MonicaBatlle4</td>\n",
       "      <td>Montevideo, Uruguay</td>\n",
       "      <td>Medica Diabetologa Tricolor a muerte</td>\n",
       "      <td>False</td>\n",
       "      <td>False</td>\n",
       "      <td>4557</td>\n",
       "      <td>4126</td>\n",
       "      <td>18797</td>\n",
       "      <td>2019-11-06 22:51:51</td>\n",
       "    </tr>\n",
       "    <tr>\n",
       "      <th>1</th>\n",
       "      <td>1200462903943606272</td>\n",
       "      <td>Rojoazulyblanc1</td>\n",
       "      <td>NaN</td>\n",
       "      <td>obrero y frenteamplista</td>\n",
       "      <td>False</td>\n",
       "      <td>False</td>\n",
       "      <td>1193</td>\n",
       "      <td>2027</td>\n",
       "      <td>13615</td>\n",
       "      <td>2019-11-29 17:14:06</td>\n",
       "    </tr>\n",
       "    <tr>\n",
       "      <th>2</th>\n",
       "      <td>1039958979420610560</td>\n",
       "      <td>congresofa</td>\n",
       "      <td>Uruguay</td>\n",
       "      <td>Grupo Político Congreso Frenteamplista. Anti -...</td>\n",
       "      <td>False</td>\n",
       "      <td>False</td>\n",
       "      <td>3149</td>\n",
       "      <td>4848</td>\n",
       "      <td>29161</td>\n",
       "      <td>2018-09-12 19:28:36</td>\n",
       "    </tr>\n",
       "    <tr>\n",
       "      <th>3</th>\n",
       "      <td>716381190719148032</td>\n",
       "      <td>ojopterouy</td>\n",
       "      <td>Uruguay</td>\n",
       "      <td>Ingeniero Agrónomo</td>\n",
       "      <td>False</td>\n",
       "      <td>False</td>\n",
       "      <td>651</td>\n",
       "      <td>1311</td>\n",
       "      <td>3837</td>\n",
       "      <td>2016-04-02 21:46:00</td>\n",
       "    </tr>\n",
       "    <tr>\n",
       "      <th>4</th>\n",
       "      <td>1293553798204489728</td>\n",
       "      <td>LadiLilian</td>\n",
       "      <td>NaN</td>\n",
       "      <td>Nolesimportanada,total hacen lo que quieren</td>\n",
       "      <td>False</td>\n",
       "      <td>False</td>\n",
       "      <td>438</td>\n",
       "      <td>599</td>\n",
       "      <td>5938</td>\n",
       "      <td>2020-08-12 14:24:23</td>\n",
       "    </tr>\n",
       "  </tbody>\n",
       "</table>\n",
       "</div>"
      ],
      "text/plain": [
       "                id_str      screen_name             location  \\\n",
       "0  1192212972497784832    MonicaBatlle4  Montevideo, Uruguay   \n",
       "1  1200462903943606272  Rojoazulyblanc1                  NaN   \n",
       "2  1039958979420610560       congresofa              Uruguay   \n",
       "3   716381190719148032       ojopterouy              Uruguay   \n",
       "4  1293553798204489728       LadiLilian                  NaN   \n",
       "\n",
       "                                         description  protected  verified  \\\n",
       "0               Medica Diabetologa Tricolor a muerte      False     False   \n",
       "1                            obrero y frenteamplista      False     False   \n",
       "2  Grupo Político Congreso Frenteamplista. Anti -...      False     False   \n",
       "3                                 Ingeniero Agrónomo      False     False   \n",
       "4        Nolesimportanada,total hacen lo que quieren      False     False   \n",
       "\n",
       "   followers_count  friends_count  statuses_count           created_at  \n",
       "0             4557           4126           18797  2019-11-06 22:51:51  \n",
       "1             1193           2027           13615  2019-11-29 17:14:06  \n",
       "2             3149           4848           29161  2018-09-12 19:28:36  \n",
       "3              651           1311            3837  2016-04-02 21:46:00  \n",
       "4              438            599            5938  2020-08-12 14:24:23  "
      ]
     },
     "execution_count": 5,
     "metadata": {},
     "output_type": "execute_result"
    }
   ],
   "source": [
    "users = pd.read_csv('users_info.csv')\n",
    "users.head(5)"
   ]
  },
  {
   "cell_type": "markdown",
   "metadata": {},
   "source": [
    "### De todos los datos, por cuestiones de esfuerzo, se tendrán en cuenta sólo los numéricos. En este sentido, se transformarán los booleanos tomando el siguiente criterio: **False** será **0** y **True** 1. "
   ]
  },
  {
   "cell_type": "code",
   "execution_count": 7,
   "metadata": {},
   "outputs": [],
   "source": [
    "enum_columns = ['protected', 'verified', 'followers_count', 'friends_count', 'statuses_count']\n",
    "numbers = users[enum_columns].astype(int)"
   ]
  },
  {
   "cell_type": "markdown",
   "metadata": {},
   "source": [
    "### Luego de la transformación, el dataset luce de la siguiente forma:"
   ]
  },
  {
   "cell_type": "code",
   "execution_count": 8,
   "metadata": {},
   "outputs": [
    {
     "data": {
      "text/html": [
       "<div>\n",
       "<style scoped>\n",
       "    .dataframe tbody tr th:only-of-type {\n",
       "        vertical-align: middle;\n",
       "    }\n",
       "\n",
       "    .dataframe tbody tr th {\n",
       "        vertical-align: top;\n",
       "    }\n",
       "\n",
       "    .dataframe thead th {\n",
       "        text-align: right;\n",
       "    }\n",
       "</style>\n",
       "<table border=\"1\" class=\"dataframe\">\n",
       "  <thead>\n",
       "    <tr style=\"text-align: right;\">\n",
       "      <th></th>\n",
       "      <th>protected</th>\n",
       "      <th>verified</th>\n",
       "      <th>followers_count</th>\n",
       "      <th>friends_count</th>\n",
       "      <th>statuses_count</th>\n",
       "    </tr>\n",
       "  </thead>\n",
       "  <tbody>\n",
       "    <tr>\n",
       "      <th>0</th>\n",
       "      <td>0</td>\n",
       "      <td>0</td>\n",
       "      <td>4557</td>\n",
       "      <td>4126</td>\n",
       "      <td>18797</td>\n",
       "    </tr>\n",
       "    <tr>\n",
       "      <th>1</th>\n",
       "      <td>0</td>\n",
       "      <td>0</td>\n",
       "      <td>1193</td>\n",
       "      <td>2027</td>\n",
       "      <td>13615</td>\n",
       "    </tr>\n",
       "    <tr>\n",
       "      <th>2</th>\n",
       "      <td>0</td>\n",
       "      <td>0</td>\n",
       "      <td>3149</td>\n",
       "      <td>4848</td>\n",
       "      <td>29161</td>\n",
       "    </tr>\n",
       "    <tr>\n",
       "      <th>3</th>\n",
       "      <td>0</td>\n",
       "      <td>0</td>\n",
       "      <td>651</td>\n",
       "      <td>1311</td>\n",
       "      <td>3837</td>\n",
       "    </tr>\n",
       "    <tr>\n",
       "      <th>4</th>\n",
       "      <td>0</td>\n",
       "      <td>0</td>\n",
       "      <td>438</td>\n",
       "      <td>599</td>\n",
       "      <td>5938</td>\n",
       "    </tr>\n",
       "    <tr>\n",
       "      <th>5</th>\n",
       "      <td>0</td>\n",
       "      <td>0</td>\n",
       "      <td>97</td>\n",
       "      <td>565</td>\n",
       "      <td>4471</td>\n",
       "    </tr>\n",
       "  </tbody>\n",
       "</table>\n",
       "</div>"
      ],
      "text/plain": [
       "   protected  verified  followers_count  friends_count  statuses_count\n",
       "0          0         0             4557           4126           18797\n",
       "1          0         0             1193           2027           13615\n",
       "2          0         0             3149           4848           29161\n",
       "3          0         0              651           1311            3837\n",
       "4          0         0              438            599            5938\n",
       "5          0         0               97            565            4471"
      ]
     },
     "execution_count": 8,
     "metadata": {},
     "output_type": "execute_result"
    }
   ],
   "source": [
    "numbers.head(6)"
   ]
  },
  {
   "cell_type": "markdown",
   "metadata": {},
   "source": [
    "***\n",
    "\n",
    "\n",
    "## 4) Análisis de atributos obtenidos\n",
    "En esta sección se intenta obtener información de los datos utilizando técnicas estadísticas y de visualización\n",
    "\n",
    "#### Comenzamos estudiando la correlación entre las variables que representan los datos utilizando una matriz de correlación"
   ]
  },
  {
   "cell_type": "code",
   "execution_count": 9,
   "metadata": {
    "scrolled": true
   },
   "outputs": [
    {
     "data": {
      "text/plain": [
       "<matplotlib.axes._subplots.AxesSubplot at 0x12ac1f050>"
      ]
     },
     "execution_count": 9,
     "metadata": {},
     "output_type": "execute_result"
    },
    {
     "data": {
      "image/png": "[encoded data removed]",
      "text/plain": [
       "<Figure size 432x288 with 2 Axes>"
      ]
     },
     "metadata": {
      "needs_background": "light"
     },
     "output_type": "display_data"
    }
   ],
   "source": [
    "import seaborn as sn\n",
    "sn.heatmap(numbers.corr(), annot=False)"
   ]
  },
  {
   "cell_type": "markdown",
   "metadata": {},
   "source": [
    "### De esta matriz podemos deducir cuáles son las variables con mayor relación y se listan en orden:\n",
    "#### 1. followers_count y verified\n",
    "\n",
    "La estrecha relación (0.628067) entre estas dos variables no debería llamar la atención. Esto se debe a que el campo `verified` implica que dicha cuenta ha pasado una revisión manual por parte del equipo de Twitter, [confirmando que son cuentas de interés público](https://help.twitter.com/es/managing-your-account/about-twitter-verified-accounts). Algunos ejemplos de cuentas verificadas son: famosos, políticos, empresas, entre otras entidades con exposición mediática, quienes naturalmente serán más conocidos (y se reflejará en cantidad de seguidores).\n",
    "\n",
    "#### 2. statuses_count y friends_count\n",
    "Si bien la relación entre estas dos variables (0.437237) no es tan directa como la anterior, la cantidad de publicaciones que hace un usuario (`statuses_count`) y la cantidad de personas que sigue (`friends_count`) podrían ser una medida de qué tanto usa la red un usuario."
   ]
  },
  {
   "cell_type": "markdown",
   "metadata": {},
   "source": [
    "### 4.A) Análisis de atributos\n",
    "\n",
    "### a) Atributo `created_at` (fecha de creación de la cuenta)\n",
    "\n",
    "#### A continuación realizamos un histograma de las fechas en las que los usuarios se unieron a la red:"
   ]
  },
  {
   "cell_type": "code",
   "execution_count": 18,
   "metadata": {
    "scrolled": false
   },
   "outputs": [
    {
     "data": {
      "text/plain": [
       "<matplotlib.axes._subplots.AxesSubplot at 0x12efe8910>"
      ]
     },
     "execution_count": 18,
     "metadata": {},
     "output_type": "execute_result"
    },
    {
     "data": {
      "image/png": "[encoded data removed]",
      "text/plain": [
       "<Figure size 432x288 with 1 Axes>"
      ]
     },
     "metadata": {
      "needs_background": "light"
     },
     "output_type": "display_data"
    }
   ],
   "source": [
    "users.created_at.astype(\"datetime64\").hist(bins=50)"
   ]
  },
  {
   "cell_type": "markdown",
   "metadata": {},
   "source": [
    "Puede apreciarse la varianza de dicha variable, teniendo un máximo de usuarios registrados a fines del 2010 aunque con varios picos dispares."
   ]
  },
  {
   "cell_type": "markdown",
   "metadata": {},
   "source": [
    "### b) Atributo `followers_count` (cantidad de seguidores)\n",
    "#### A continuación realizamos un histograma de la cantidad de seguidores de cada usuario, el mismo representa la distribución de grado de la red:"
   ]
  },
  {
   "cell_type": "code",
   "execution_count": 23,
   "metadata": {},
   "outputs": [
    {
     "data": {
      "image/png": "[encoded data removed]",
      "text/plain": [
       "<Figure size 432x288 with 1 Axes>"
      ]
     },
     "metadata": {
      "needs_background": "light"
     },
     "output_type": "display_data"
    }
   ],
   "source": [
    "fig = pd.to_numeric(users.followers_count).hist(bins=70)\n",
    "fig.set_yscale('log')"
   ]
  },
  {
   "cell_type": "markdown",
   "metadata": {},
   "source": [
    "Podemos afirmar que la distribución se asemeja aunque muy poco a una distribución power-law, que generalmente es la que describe a este tipo de redes."
   ]
  },
  {
   "cell_type": "code",
   "execution_count": 31,
   "metadata": {
    "scrolled": true
   },
   "outputs": [
    {
     "data": {
      "text/plain": [
       "count       879.000000\n",
       "mean       1999.689420\n",
       "std       13327.293523\n",
       "min           5.000000\n",
       "25%         152.500000\n",
       "50%         424.000000\n",
       "75%        1023.500000\n",
       "max      303904.000000\n",
       "Name: followers_count, dtype: float64"
      ]
     },
     "execution_count": 31,
     "metadata": {},
     "output_type": "execute_result"
    }
   ],
   "source": [
    "users.followers_count.describe()"
   ]
  },
  {
   "cell_type": "markdown",
   "metadata": {},
   "source": [
    "En este gráfico puede apreciarse cómo la inmensa mayoría de los usuarios tienen relativamente baja cantidad de seguidores comparado con unos pocos que concentran grande cantidades. Esto también puede verse con la gran desviación que presentan los datos."
   ]
  },
  {
   "cell_type": "markdown",
   "metadata": {},
   "source": [
    "### c) Atributo `friends_count` (cantidad de usuarios seguidos)\n",
    "#### A continuación realizamos un histograma de la cantidad de usuarios que sigue cada cuenta:"
   ]
  },
  {
   "cell_type": "code",
   "execution_count": 33,
   "metadata": {},
   "outputs": [
    {
     "data": {
      "image/png": "[encoded data removed]",
      "text/plain": [
       "<Figure size 432x288 with 1 Axes>"
      ]
     },
     "metadata": {
      "needs_background": "light"
     },
     "output_type": "display_data"
    }
   ],
   "source": [
    "fig_2 = pd.to_numeric(users.friends_count).hist(bins=70)\n",
    "fig_2.set_yscale('log')"
   ]
  },
  {
   "cell_type": "code",
   "execution_count": 34,
   "metadata": {},
   "outputs": [
    {
     "data": {
      "text/plain": [
       "count      879.000000\n",
       "mean       957.063709\n",
       "std       1431.684507\n",
       "min         22.000000\n",
       "25%        253.500000\n",
       "50%        534.000000\n",
       "75%       1051.000000\n",
       "max      26888.000000\n",
       "Name: friends_count, dtype: float64"
      ]
     },
     "execution_count": 34,
     "metadata": {},
     "output_type": "execute_result"
    }
   ],
   "source": [
    "users.friends_count.describe()"
   ]
  },
  {
   "cell_type": "markdown",
   "metadata": {},
   "source": [
    "### d) Atributo `location` (ubicación geográfica)\n",
    "#### A continuación se expresan las decisiones tomadas con respecto a este atributo"
   ]
  },
  {
   "cell_type": "markdown",
   "metadata": {},
   "source": [
    "Listamos 10 ejemplos aleatorios para ver cómo lucen:"
   ]
  },
  {
   "cell_type": "code",
   "execution_count": 21,
   "metadata": {
    "scrolled": true
   },
   "outputs": [
    {
     "data": {
      "text/plain": [
       "164                        Uruguay\n",
       "833                            NaN\n",
       "708            Montevideo, Uruguay\n",
       "427                        Uruguay\n",
       "599                            NaN\n",
       "24             Montevideo, Uruguay\n",
       "399                            NaN\n",
       "673           Uruguay -. Canelones\n",
       "726    Ciudad de la costa, Uruguay\n",
       "385                     Cuarentena\n",
       "Name: location, dtype: object"
      ]
     },
     "execution_count": 21,
     "metadata": {},
     "output_type": "execute_result"
    }
   ],
   "source": [
    "users['location'].sample(10)"
   ]
  },
  {
   "cell_type": "markdown",
   "metadata": {},
   "source": [
    "Un gran porcentaje de los usuarios no tienen su ubicación configurada, tienen ubicaciones ficticias o no válidas. Además de esto, la misma ubicación puede estar representada de distintas formas debido a que Twitter permite ingresar la misma como un string libre en lugar de seleccionar dentro de una lista de válidas.\n",
    "\n",
    "Esto puede apreciarse simplemente viendo la cantidad de `locations` distintas dentro del total de usuarios que tuitearon la expresión **\"Rural del Prado\"**:"
   ]
  },
  {
   "cell_type": "code",
   "execution_count": 32,
   "metadata": {},
   "outputs": [
    {
     "data": {
      "text/plain": [
       "219"
      ]
     },
     "execution_count": 32,
     "metadata": {},
     "output_type": "execute_result"
    }
   ],
   "source": [
    "len(users['location'].unique())"
   ]
  },
  {
   "cell_type": "markdown",
   "metadata": {},
   "source": [
    "Si bien resultaría interesante contrastar la información de la localidad de las cuentas con la asunción de que las mismas son efectivamente de Uruguay, por razones de tiempo no se harán en el presente trabajo ya que implicarían la utilización de técnicas de procesamiento de lenguaje natural sobre el atributo de localidad.\n",
    "\n"
   ]
  },
  {
   "cell_type": "markdown",
   "metadata": {},
   "source": [
    "\n",
    "***"
   ]
  },
  {
   "cell_type": "markdown",
   "metadata": {},
   "source": [
    "## 5) Análisis macro de la red obtenida\n",
    "\n",
    "De la recolección de datos se obtienen una matriz $T \\in \\mathbb{R}^{2 \\times 22636}$ donde cada fila $t_{i}=(t_{i1},t_{i2})$ indica que el usuario con $id=t_{i1}$ sigue al usuario con $id=t_{i2}$ y su matriz equivalente conteniendo nombres de usuarios.\n",
    "\n",
    "De la matriz $T$ se construye el grafo a estudiar $G$ de la siguiente manera:\n",
    "- Los nodos (vértices) $v \\in G$ de la red serán usuarios de Twitter\n",
    "- Habrá una arista $e=(v_1,v_2)$ **dirigida** entre un par de nodos si el usuario $v_1$ sigue al usuario $v_2$\n",
    "\n",
    "Del grafo $G$ se obtiene una red compuesta por 1224 nodos y 22636 aristas. La misma está dividida en 7 componentes conexas, donde se distingue una componente gigante con 1211 nodos y 22622 aristas que la conectan. Dicha componente contiene el 98.94% del total de nodos así como el 99.94% del total de aristas. "
   ]
  },
  {
   "cell_type": "markdown",
   "metadata": {},
   "source": [
    "### 5.1) Análisis de comunidades en la red\n",
    "En esta parte se utilizan distintas técnicas para clasificar a los usuarios en distintos grupos según determinados algoritmos o decisiones que se explicitarán.\n",
    "\n",
    "### a) Primera intuición\n",
    "Se dibuja el grafo con el algoritmo Force Atlas, con una repulsión y atracción de 1000 y 10 respectivamente:"
   ]
  },
  {
   "cell_type": "markdown",
   "metadata": {},
   "source": [
    "![imagen1](img/1.png)\n",
    "<center><b>(Imagen 1)</b></center>"
   ]
  },
  {
   "cell_type": "markdown",
   "metadata": {},
   "source": [
    "A simple vista puede verse cómo el algoritmo por sí solo concentra a los vértices en 2 grandes grupos, habiendo otro grupo de vértices que se encuentran equidistantes a ambos clusters. \n",
    "Se le aplican técnicas de corte estético al grafo para que se puedan observar de forma más clara los tres grupos. En la siguiente figura se distinguen en colores rojo, azul y verde respectivamente:"
   ]
  },
  {
   "cell_type": "markdown",
   "metadata": {},
   "source": [
    "![imagen1](img/2.png)\n",
    "<center><b>(Imagen 2)</b></center>"
   ]
  },
  {
   "cell_type": "markdown",
   "metadata": {},
   "source": [
    "### b) Algoritmo de modularidad provisto por Gephi\n",
    "\n",
    "Para estudiar con mayor profundidad las agrupaciones, se corre el algoritmo de modularidad provisto por Gephi. \n",
    "\n",
    "La modularidad de una red es una medida de qué tan conectados están los nodos pertenecientes a un mismo cluster. Una modularidad alta indica conexiones densas entre los nodos de un mismo cluster aunque conexiones esparzas entre los actores de distintos clusters. La modularidad de nuestra red es de 0.432, considerablemente alta. \n",
    "\n",
    "Por otro lado, una medida que nos da una idea similar es el coeficiente de clustering. El mismo representa la fracción de los vecinos que están conectados entre sí. En nuestra red es de 0.306 en promedio, por lo que aproximadamente uno de cada tres vecinos está conectado entre sí.\n",
    "\n",
    "**En la siguiente imagen se puede apreciar el resultado de calcular los clusters de la red:**\n",
    "![imagen3](img/3.png)\n",
    "\n",
    "<center><b>(Imagen 3)</b></center>\n",
    "\n",
    "![imagen4](img/4.png)\n",
    "\n",
    "\n",
    "Con el algoritmo de detección de comunidades encontramos 4 clases principales que concentran el 97.39% de los usuarios. Las mismas coinciden en gran proporción con las inicialmente dibujadas en la **figura 2**."
   ]
  },
  {
   "cell_type": "markdown",
   "metadata": {},
   "source": [
    "### c) Estudio de orientación política de los usuarios de la red mediante etiquetado manual:\n",
    "Para estudiar una posible inclinación ideológica dentro de las clases (clusters) detectadas y con el fin de contrastar la información predicha con información real, se prosiguió a tomar los 150 usuarios usuarios con mayor PageRank de la red (**sección 5**) y analizar sus perfiles.\n",
    "\n",
    "De los 150 usuarios analizados puede decirse que se pudo clasificar sin problema a 106 de ellos (8.74% del total de los nodos de la red) en 5 categorías: **Periodista**, **Medio**, **Institucional**, **Frente Amplio** y **Coalición Multicolor**.\n",
    "\n",
    "De los restantes 44 no se encontró evidencia suficiente para clasificarlos en ninguna de las anteriores categorías tomándose un criterio conservador ante la elección de la clase.\n",
    "\n",
    "El análisis de perfiles consistió en leer su descripción, foto de perfil y [tweet fijado](https://www.quora.com/What-is-a-pinned-tweet-and-how-do-I-do-one) y através de ellos inferir su identificación política si así fuera posible. Por más que parezca complejo, este proceso fue más simple de lo esperado por la información que contenían los perfiles de usuarios (esto podría ser por la cercanía a las Elecciones Nacionales y las Departamentales).\n",
    "\n",
    "La eficacia de este procedimiento puede resultar cuestionable por la subjetividad del clasificador, aunque se hace énfasis en que se tomó una postura conservadora a la hora de clasificar cuando no había suficientes datos. Esta postura llevó a que casi un tercio de los perfiles visitados no fueran incluidos en ninguna categoría a pesar de tener algo de información sobre ellos.\n",
    "\n",
    "Por estos motivos se presentan algunas algunas capturas de forma de transparentar el proceso:"
   ]
  },
  {
   "cell_type": "markdown",
   "metadata": {},
   "source": [
    "#### Ejemplos clasificados como Frente Amplio:\n",
    "![imagen5](img/5.png)\n",
    "\n",
    "#### Ejemplos clasificados como Coalición Multicolor:\n",
    "![imagen6](img/6.png)\n",
    "\n",
    "#### Ejemplos no clasificados::\n",
    "![imagen7](img/7.png)"
   ]
  },
  {
   "cell_type": "markdown",
   "metadata": {},
   "source": [
    "#### A continuación puede apreciarse el grafo con la coloración correspondiente a las nuevas clases manualmente etiquetadas:\n",
    "![imagen8](img/8.png)\n",
    "![image9](img/9.png)"
   ]
  },
  {
   "cell_type": "markdown",
   "metadata": {},
   "source": [
    "De los datos etiquetados gran porcentaje coincide con la clase de modularidad asociada por el algoritmo provisto por Gephi.\n",
    "\n",
    "En el siguiente punteo se listan algunas relaciones entre las etiquetas elegidas y las clasificaciones hechas por el algoritmo de clustering.\n",
    "\n",
    "- El 100% de los etiquetados como frenteamplistas pertenecen a la clase 5\n",
    "- El 100% de los etiquetados como Coalición Multicolor pertenecen a la clase 3\n",
    "- En su mayoría, las cuentas etiquetadas como medios o institucional pertenecen a las clases 4, 3 y 5 en ese orden de prioridad. A su vez, medios que son asociados a la izquierda (como M24) pertenece al cluster con número 3 donde se encuentran los usuarios vinculados con votantes del Frente Amplio así como medios asociados con la derecha (El Observador, El País) pertenecen principalmente al cluster 5 donde dominan los simpatizantes de la Coalición Multicolor. Asumiendo estas hipótesis podría explicarse que esto sucede por la homofilia entre los usuarios al consumir información de cuentas con orientaciones políticas similares.\n"
   ]
  },
  {
   "cell_type": "markdown",
   "metadata": {},
   "source": [
    "### d) Graph Neural Networks\n",
    "En esta sección se intentará utilizar Graph Neural Networks, una herramienta relativamente nueva para el estudio de grafos utilizando [Redes Neuronales Convolucionales](https://es.wikipedia.org/wiki/Redes_neuronales_convolucionales) en las cuales se utilizan capas del tipo `GraphConv` (provistas por la librería [Spektral](https://graphneural.network/)) donde, además de tener en cuenta la matriz de adyacencias del grafo, se toman características del propio grafo a la hora de predecir etiquetas de nodos o aritas.\n",
    "\n",
    "\n",
    "En este caso se utilizarán en una simplificación de problema donde se convierte el problema a una clasificación binaria intentando predecir si los nodos del grafo tendrán la etiqueta \"FA\" o \"CM\" representando `Frente Amplio` y `Coalición Multicolor` respectivamente.\n",
    "\n",
    "\n",
    "Para esto se necesitan importar las siguientes librerías:"
   ]
  },
  {
   "cell_type": "code",
   "execution_count": 20,
   "metadata": {},
   "outputs": [],
   "source": [
    "import networkx as nx\n",
    "import scipy.sparse as sparse\n",
    "import numpy as np\n",
    "import matplotlib\n",
    "import pandas as pd\n",
    "from matplotlib.colors import ListedColormap\n",
    "import tensorflow as tf\n",
    "import matplotlib.pyplot"
   ]
  },
  {
   "cell_type": "markdown",
   "metadata": {},
   "source": [
    "Para proceder con la clasificación previamente descrita, la librería nos exige que las entradas del algoritmo sean las siguientes:\n",
    "\n",
    "- **A**: Matriz de adyacencias del grafo\n",
    "- **X**: Matriz con features de los nodos del grafo\n",
    "- **y**: Matriz con etiquetas 'FA' o 'CM' (de forma one-hot endoded)\n",
    "- **train_mask**, **validating_mask**, **testing_mask** máscaras que seleccionan qué nodos se usarán en cada uno de los pasos de entrenamiento, validación y testeo."
   ]
  },
  {
   "cell_type": "code",
   "execution_count": 21,
   "metadata": {},
   "outputs": [],
   "source": [
    "graph = nx.read_gexf('grafo_ultimo.gexf', node_type=None, relabel=False)\n",
    "adj_matrix = nx.adjacency_matrix(graph)"
   ]
  },
  {
   "cell_type": "markdown",
   "metadata": {},
   "source": [
    "A continuación se grafica la matriz de adyacencias del grafo para tener una idea de qué tan esparsa es:"
   ]
  },
  {
   "cell_type": "code",
   "execution_count": 22,
   "metadata": {},
   "outputs": [
    {
     "data": {
      "text/plain": [
       "<matplotlib.image.AxesImage at 0x143443d10>"
      ]
     },
     "execution_count": 22,
     "metadata": {},
     "output_type": "execute_result"
    },
    {
     "data": {
      "image/png": "[encoded data removed]",
      "text/plain": [
       "<Figure size 288x288 with 1 Axes>"
      ]
     },
     "metadata": {
      "needs_background": "light"
     },
     "output_type": "display_data"
    }
   ],
   "source": [
    "cmap = ListedColormap(['white', 'black'])\n",
    "matplotlib.pyplot.matshow(adj_matrix, cmap=cmap)"
   ]
  },
  {
   "cell_type": "markdown",
   "metadata": {},
   "source": [
    "Para continuar, se agrega la información recaudada de cada usuario a su respectivo nodo para tenerlos dentro de la matriz **X**. \n",
    "\n",
    "Como fue previamente comentado, se quitarán las etiquetas de `Periodista`, `Medio`, `Institucional` y se codifican las etiquetas a 0, 1."
   ]
  },
  {
   "cell_type": "code",
   "execution_count": 23,
   "metadata": {},
   "outputs": [],
   "source": [
    "dataset = pd.read_csv(\"perfiles_etiquetados.csv\")\n",
    "users = pd.read_csv(\"users_info.csv\")\n",
    "dataset.rename(columns={'Label':'screen_name'}, inplace=True)\n",
    "full_dataset = pd.merge(dataset,users,on='screen_name',how='left')\n",
    "\n",
    "full_dataset = full_dataset.replace({'medio': np.nan })\n",
    "full_dataset = full_dataset.replace({'periodista': np.nan })\n",
    "full_dataset = full_dataset.replace({'institucional': np.nan })\n",
    "full_dataset = full_dataset.replace({'fa': 0 })\n",
    "full_dataset = full_dataset.replace({'cm': 1 })"
   ]
  },
  {
   "cell_type": "markdown",
   "metadata": {},
   "source": [
    "El dataset luce de la siguiente forma y en él se puede ver cómo no se pudo recuperar la información de varios nodos de la red. Esto se debe a que la recolección de usuarios de la red y la recolección de su información de perfil se hicieron con un tiempo relativamente grande de diferencia (2 semanas después), por lo que los usuarios podrían haber cambiado la privacidad de su cuenta, el nombre de usuario o bien pudieron desactivar su cuenta."
   ]
  },
  {
   "cell_type": "code",
   "execution_count": 24,
   "metadata": {},
   "outputs": [
    {
     "data": {
      "text/html": [
       "<div>\n",
       "<style scoped>\n",
       "    .dataframe tbody tr th:only-of-type {\n",
       "        vertical-align: middle;\n",
       "    }\n",
       "\n",
       "    .dataframe tbody tr th {\n",
       "        vertical-align: top;\n",
       "    }\n",
       "\n",
       "    .dataframe thead th {\n",
       "        text-align: right;\n",
       "    }\n",
       "</style>\n",
       "<table border=\"1\" class=\"dataframe\">\n",
       "  <thead>\n",
       "    <tr style=\"text-align: right;\">\n",
       "      <th></th>\n",
       "      <th>Id</th>\n",
       "      <th>screen_name</th>\n",
       "      <th>timeset</th>\n",
       "      <th>afinidad</th>\n",
       "      <th>modularity_class</th>\n",
       "      <th>pageranks</th>\n",
       "      <th>indegree</th>\n",
       "      <th>outdegree</th>\n",
       "      <th>Degree</th>\n",
       "      <th>Eccentricity</th>\n",
       "      <th>...</th>\n",
       "      <th>eigencentrality</th>\n",
       "      <th>id_str</th>\n",
       "      <th>location</th>\n",
       "      <th>description</th>\n",
       "      <th>protected</th>\n",
       "      <th>verified</th>\n",
       "      <th>followers_count</th>\n",
       "      <th>friends_count</th>\n",
       "      <th>statuses_count</th>\n",
       "      <th>created_at</th>\n",
       "    </tr>\n",
       "  </thead>\n",
       "  <tbody>\n",
       "    <tr>\n",
       "      <th>0</th>\n",
       "      <td>1052916459834364032</td>\n",
       "      <td>MillorLujan</td>\n",
       "      <td>NaN</td>\n",
       "      <td>NaN</td>\n",
       "      <td>5</td>\n",
       "      <td>0.000266</td>\n",
       "      <td>7</td>\n",
       "      <td>13</td>\n",
       "      <td>20</td>\n",
       "      <td>7</td>\n",
       "      <td>...</td>\n",
       "      <td>0.069047</td>\n",
       "      <td>NaN</td>\n",
       "      <td>NaN</td>\n",
       "      <td>NaN</td>\n",
       "      <td>NaN</td>\n",
       "      <td>NaN</td>\n",
       "      <td>NaN</td>\n",
       "      <td>NaN</td>\n",
       "      <td>NaN</td>\n",
       "      <td>NaN</td>\n",
       "    </tr>\n",
       "    <tr>\n",
       "      <th>1</th>\n",
       "      <td>1192212972497784832</td>\n",
       "      <td>MonicaBatlle4</td>\n",
       "      <td>NaN</td>\n",
       "      <td>NaN</td>\n",
       "      <td>3</td>\n",
       "      <td>0.002817</td>\n",
       "      <td>142</td>\n",
       "      <td>205</td>\n",
       "      <td>347</td>\n",
       "      <td>6</td>\n",
       "      <td>...</td>\n",
       "      <td>0.482481</td>\n",
       "      <td>1.192213e+18</td>\n",
       "      <td>Montevideo, Uruguay</td>\n",
       "      <td>Medica Diabetologa Tricolor a muerte</td>\n",
       "      <td>False</td>\n",
       "      <td>False</td>\n",
       "      <td>4557.0</td>\n",
       "      <td>4126.0</td>\n",
       "      <td>18797.0</td>\n",
       "      <td>2019-11-06 22:51:51</td>\n",
       "    </tr>\n",
       "    <tr>\n",
       "      <th>2</th>\n",
       "      <td>427830008</td>\n",
       "      <td>ubidominans</td>\n",
       "      <td>NaN</td>\n",
       "      <td>NaN</td>\n",
       "      <td>5</td>\n",
       "      <td>0.002089</td>\n",
       "      <td>84</td>\n",
       "      <td>37</td>\n",
       "      <td>121</td>\n",
       "      <td>6</td>\n",
       "      <td>...</td>\n",
       "      <td>0.483722</td>\n",
       "      <td>NaN</td>\n",
       "      <td>NaN</td>\n",
       "      <td>NaN</td>\n",
       "      <td>NaN</td>\n",
       "      <td>NaN</td>\n",
       "      <td>NaN</td>\n",
       "      <td>NaN</td>\n",
       "      <td>NaN</td>\n",
       "      <td>NaN</td>\n",
       "    </tr>\n",
       "    <tr>\n",
       "      <th>3</th>\n",
       "      <td>1367991289</td>\n",
       "      <td>laresistencia72</td>\n",
       "      <td>NaN</td>\n",
       "      <td>NaN</td>\n",
       "      <td>5</td>\n",
       "      <td>0.000727</td>\n",
       "      <td>29</td>\n",
       "      <td>54</td>\n",
       "      <td>83</td>\n",
       "      <td>6</td>\n",
       "      <td>...</td>\n",
       "      <td>0.235189</td>\n",
       "      <td>1.367991e+09</td>\n",
       "      <td>Uruguayo</td>\n",
       "      <td>''Que En Todos Lados Se Vea El Poder De La Cla...</td>\n",
       "      <td>False</td>\n",
       "      <td>False</td>\n",
       "      <td>383.0</td>\n",
       "      <td>839.0</td>\n",
       "      <td>2067.0</td>\n",
       "      <td>2013-04-20 20:51:14</td>\n",
       "    </tr>\n",
       "    <tr>\n",
       "      <th>4</th>\n",
       "      <td>938192801023561600</td>\n",
       "      <td>Sofamansillaeco</td>\n",
       "      <td>NaN</td>\n",
       "      <td>NaN</td>\n",
       "      <td>5</td>\n",
       "      <td>0.000272</td>\n",
       "      <td>6</td>\n",
       "      <td>9</td>\n",
       "      <td>15</td>\n",
       "      <td>7</td>\n",
       "      <td>...</td>\n",
       "      <td>0.055201</td>\n",
       "      <td>NaN</td>\n",
       "      <td>NaN</td>\n",
       "      <td>NaN</td>\n",
       "      <td>NaN</td>\n",
       "      <td>NaN</td>\n",
       "      <td>NaN</td>\n",
       "      <td>NaN</td>\n",
       "      <td>NaN</td>\n",
       "      <td>NaN</td>\n",
       "    </tr>\n",
       "    <tr>\n",
       "      <th>5</th>\n",
       "      <td>1045117028733001600</td>\n",
       "      <td>Mabel546</td>\n",
       "      <td>NaN</td>\n",
       "      <td>0.0</td>\n",
       "      <td>5</td>\n",
       "      <td>0.001398</td>\n",
       "      <td>64</td>\n",
       "      <td>73</td>\n",
       "      <td>137</td>\n",
       "      <td>6</td>\n",
       "      <td>...</td>\n",
       "      <td>0.480269</td>\n",
       "      <td>NaN</td>\n",
       "      <td>NaN</td>\n",
       "      <td>NaN</td>\n",
       "      <td>NaN</td>\n",
       "      <td>NaN</td>\n",
       "      <td>NaN</td>\n",
       "      <td>NaN</td>\n",
       "      <td>NaN</td>\n",
       "      <td>NaN</td>\n",
       "    </tr>\n",
       "  </tbody>\n",
       "</table>\n",
       "<p>6 rows × 28 columns</p>\n",
       "</div>"
      ],
      "text/plain": [
       "                    Id      screen_name  timeset  afinidad  modularity_class  \\\n",
       "0  1052916459834364032      MillorLujan      NaN       NaN                 5   \n",
       "1  1192212972497784832    MonicaBatlle4      NaN       NaN                 3   \n",
       "2            427830008      ubidominans      NaN       NaN                 5   \n",
       "3           1367991289  laresistencia72      NaN       NaN                 5   \n",
       "4   938192801023561600  Sofamansillaeco      NaN       NaN                 5   \n",
       "5  1045117028733001600         Mabel546      NaN       0.0                 5   \n",
       "\n",
       "   pageranks  indegree  outdegree  Degree  Eccentricity  ...  eigencentrality  \\\n",
       "0   0.000266         7         13      20             7  ...         0.069047   \n",
       "1   0.002817       142        205     347             6  ...         0.482481   \n",
       "2   0.002089        84         37     121             6  ...         0.483722   \n",
       "3   0.000727        29         54      83             6  ...         0.235189   \n",
       "4   0.000272         6          9      15             7  ...         0.055201   \n",
       "5   0.001398        64         73     137             6  ...         0.480269   \n",
       "\n",
       "         id_str             location  \\\n",
       "0           NaN                  NaN   \n",
       "1  1.192213e+18  Montevideo, Uruguay   \n",
       "2           NaN                  NaN   \n",
       "3  1.367991e+09             Uruguayo   \n",
       "4           NaN                  NaN   \n",
       "5           NaN                  NaN   \n",
       "\n",
       "                                         description  protected  verified  \\\n",
       "0                                                NaN        NaN       NaN   \n",
       "1               Medica Diabetologa Tricolor a muerte      False     False   \n",
       "2                                                NaN        NaN       NaN   \n",
       "3  ''Que En Todos Lados Se Vea El Poder De La Cla...      False     False   \n",
       "4                                                NaN        NaN       NaN   \n",
       "5                                                NaN        NaN       NaN   \n",
       "\n",
       "   followers_count  friends_count  statuses_count           created_at  \n",
       "0              NaN            NaN             NaN                  NaN  \n",
       "1           4557.0         4126.0         18797.0  2019-11-06 22:51:51  \n",
       "2              NaN            NaN             NaN                  NaN  \n",
       "3            383.0          839.0          2067.0  2013-04-20 20:51:14  \n",
       "4              NaN            NaN             NaN                  NaN  \n",
       "5              NaN            NaN             NaN                  NaN  \n",
       "\n",
       "[6 rows x 28 columns]"
      ]
     },
     "execution_count": 24,
     "metadata": {},
     "output_type": "execute_result"
    }
   ],
   "source": [
    "full_dataset.head(6)"
   ]
  },
  {
   "cell_type": "markdown",
   "metadata": {},
   "source": [
    "Se separa tanto la clasificación de cada nodo así como la clase de modularidad de los nodos para que el algoritmo no tenga en cuenta esta información a la hora de predecir las clases. Se necesitará saber el índice de cada etiqueta predicha, así que la se guardan en la variable `index_of_labeled`.\n",
    "\n",
    "\n",
    "Además se elimina la información que no sea numérica, ya que el algoritmo sólo admite datos de este tipo en su entrada."
   ]
  },
  {
   "cell_type": "code",
   "execution_count": 25,
   "metadata": {},
   "outputs": [],
   "source": [
    "labels = full_dataset['afinidad']\n",
    "index_of_labeled = labels[labels.notnull()].index\n",
    "full_dataset = full_dataset.drop(columns=['afinidad', 'protected', 'verified', 'location', 'description', 'Id', 'screen_name', 'timeset', 'modularity_class', 'componentnumber', 'strongcompnum', 'indegree', 'outdegree', 'Degree', 'Eccentricity', 'id_str', 'created_at'])"
   ]
  },
  {
   "cell_type": "markdown",
   "metadata": {},
   "source": [
    "Como aún se sigue con información faltante (como la cantidad de seguidores de algunos usuarios, cantidad de usuarios que siguen o cantidad de tuits) se sustituye la información faltante por la media del respectivo atributo:"
   ]
  },
  {
   "cell_type": "code",
   "execution_count": 26,
   "metadata": {},
   "outputs": [
    {
     "data": {
      "text/html": [
       "<div>\n",
       "<style scoped>\n",
       "    .dataframe tbody tr th:only-of-type {\n",
       "        vertical-align: middle;\n",
       "    }\n",
       "\n",
       "    .dataframe tbody tr th {\n",
       "        vertical-align: top;\n",
       "    }\n",
       "\n",
       "    .dataframe thead th {\n",
       "        text-align: right;\n",
       "    }\n",
       "</style>\n",
       "<table border=\"1\" class=\"dataframe\">\n",
       "  <thead>\n",
       "    <tr style=\"text-align: right;\">\n",
       "      <th></th>\n",
       "      <th>pageranks</th>\n",
       "      <th>closnesscentrality</th>\n",
       "      <th>harmonicclosnesscentrality</th>\n",
       "      <th>betweenesscentrality</th>\n",
       "      <th>Authority</th>\n",
       "      <th>Hub</th>\n",
       "      <th>clustering</th>\n",
       "      <th>eigencentrality</th>\n",
       "      <th>followers_count</th>\n",
       "      <th>friends_count</th>\n",
       "      <th>statuses_count</th>\n",
       "    </tr>\n",
       "  </thead>\n",
       "  <tbody>\n",
       "    <tr>\n",
       "      <th>0</th>\n",
       "      <td>0.000266</td>\n",
       "      <td>0.320755</td>\n",
       "      <td>0.355198</td>\n",
       "      <td>0.000001</td>\n",
       "      <td>0.005914</td>\n",
       "      <td>0.013885</td>\n",
       "      <td>0.620879</td>\n",
       "      <td>0.069047</td>\n",
       "      <td>2027.00232</td>\n",
       "      <td>966.518561</td>\n",
       "      <td>23077.184455</td>\n",
       "    </tr>\n",
       "    <tr>\n",
       "      <th>1</th>\n",
       "      <td>0.002817</td>\n",
       "      <td>0.410276</td>\n",
       "      <td>0.508049</td>\n",
       "      <td>0.028870</td>\n",
       "      <td>0.119300</td>\n",
       "      <td>0.137382</td>\n",
       "      <td>0.136201</td>\n",
       "      <td>0.482481</td>\n",
       "      <td>4557.00000</td>\n",
       "      <td>4126.000000</td>\n",
       "      <td>18797.000000</td>\n",
       "    </tr>\n",
       "    <tr>\n",
       "      <th>2</th>\n",
       "      <td>0.002089</td>\n",
       "      <td>0.344670</td>\n",
       "      <td>0.386591</td>\n",
       "      <td>0.004461</td>\n",
       "      <td>0.042358</td>\n",
       "      <td>0.022055</td>\n",
       "      <td>0.285014</td>\n",
       "      <td>0.483722</td>\n",
       "      <td>2027.00232</td>\n",
       "      <td>966.518561</td>\n",
       "      <td>23077.184455</td>\n",
       "    </tr>\n",
       "    <tr>\n",
       "      <th>3</th>\n",
       "      <td>0.000727</td>\n",
       "      <td>0.361454</td>\n",
       "      <td>0.410073</td>\n",
       "      <td>0.002988</td>\n",
       "      <td>0.019821</td>\n",
       "      <td>0.033001</td>\n",
       "      <td>0.470999</td>\n",
       "      <td>0.235189</td>\n",
       "      <td>383.00000</td>\n",
       "      <td>839.000000</td>\n",
       "      <td>2067.000000</td>\n",
       "    </tr>\n",
       "    <tr>\n",
       "      <th>4</th>\n",
       "      <td>0.000272</td>\n",
       "      <td>0.313411</td>\n",
       "      <td>0.344271</td>\n",
       "      <td>0.000093</td>\n",
       "      <td>0.004358</td>\n",
       "      <td>0.008175</td>\n",
       "      <td>0.344444</td>\n",
       "      <td>0.055201</td>\n",
       "      <td>2027.00232</td>\n",
       "      <td>966.518561</td>\n",
       "      <td>23077.184455</td>\n",
       "    </tr>\n",
       "    <tr>\n",
       "      <th>...</th>\n",
       "      <td>...</td>\n",
       "      <td>...</td>\n",
       "      <td>...</td>\n",
       "      <td>...</td>\n",
       "      <td>...</td>\n",
       "      <td>...</td>\n",
       "      <td>...</td>\n",
       "      <td>...</td>\n",
       "      <td>...</td>\n",
       "      <td>...</td>\n",
       "      <td>...</td>\n",
       "    </tr>\n",
       "    <tr>\n",
       "      <th>1219</th>\n",
       "      <td>0.000630</td>\n",
       "      <td>0.666667</td>\n",
       "      <td>0.750000</td>\n",
       "      <td>0.000000</td>\n",
       "      <td>0.000000</td>\n",
       "      <td>0.000000</td>\n",
       "      <td>0.000000</td>\n",
       "      <td>0.000063</td>\n",
       "      <td>175.00000</td>\n",
       "      <td>265.000000</td>\n",
       "      <td>4091.000000</td>\n",
       "    </tr>\n",
       "    <tr>\n",
       "      <th>1220</th>\n",
       "      <td>0.000215</td>\n",
       "      <td>0.210674</td>\n",
       "      <td>0.219191</td>\n",
       "      <td>0.001612</td>\n",
       "      <td>0.000052</td>\n",
       "      <td>0.000000</td>\n",
       "      <td>0.000000</td>\n",
       "      <td>0.000083</td>\n",
       "      <td>272.00000</td>\n",
       "      <td>515.000000</td>\n",
       "      <td>5520.000000</td>\n",
       "    </tr>\n",
       "    <tr>\n",
       "      <th>1221</th>\n",
       "      <td>0.001192</td>\n",
       "      <td>1.000000</td>\n",
       "      <td>1.000000</td>\n",
       "      <td>0.000001</td>\n",
       "      <td>0.000000</td>\n",
       "      <td>0.000000</td>\n",
       "      <td>0.000000</td>\n",
       "      <td>0.000115</td>\n",
       "      <td>2027.00232</td>\n",
       "      <td>966.518561</td>\n",
       "      <td>23077.184455</td>\n",
       "    </tr>\n",
       "    <tr>\n",
       "      <th>1222</th>\n",
       "      <td>0.000294</td>\n",
       "      <td>0.213015</td>\n",
       "      <td>0.222589</td>\n",
       "      <td>0.000000</td>\n",
       "      <td>0.000010</td>\n",
       "      <td>0.000033</td>\n",
       "      <td>0.000000</td>\n",
       "      <td>0.000400</td>\n",
       "      <td>342.00000</td>\n",
       "      <td>591.000000</td>\n",
       "      <td>15381.000000</td>\n",
       "    </tr>\n",
       "    <tr>\n",
       "      <th>1223</th>\n",
       "      <td>0.000172</td>\n",
       "      <td>0.198943</td>\n",
       "      <td>0.209426</td>\n",
       "      <td>0.000000</td>\n",
       "      <td>0.000071</td>\n",
       "      <td>0.000011</td>\n",
       "      <td>0.000000</td>\n",
       "      <td>0.000126</td>\n",
       "      <td>2027.00232</td>\n",
       "      <td>966.518561</td>\n",
       "      <td>23077.184455</td>\n",
       "    </tr>\n",
       "  </tbody>\n",
       "</table>\n",
       "<p>1224 rows × 11 columns</p>\n",
       "</div>"
      ],
      "text/plain": [
       "      pageranks  closnesscentrality  harmonicclosnesscentrality  \\\n",
       "0      0.000266            0.320755                    0.355198   \n",
       "1      0.002817            0.410276                    0.508049   \n",
       "2      0.002089            0.344670                    0.386591   \n",
       "3      0.000727            0.361454                    0.410073   \n",
       "4      0.000272            0.313411                    0.344271   \n",
       "...         ...                 ...                         ...   \n",
       "1219   0.000630            0.666667                    0.750000   \n",
       "1220   0.000215            0.210674                    0.219191   \n",
       "1221   0.001192            1.000000                    1.000000   \n",
       "1222   0.000294            0.213015                    0.222589   \n",
       "1223   0.000172            0.198943                    0.209426   \n",
       "\n",
       "      betweenesscentrality  Authority       Hub  clustering  eigencentrality  \\\n",
       "0                 0.000001   0.005914  0.013885    0.620879         0.069047   \n",
       "1                 0.028870   0.119300  0.137382    0.136201         0.482481   \n",
       "2                 0.004461   0.042358  0.022055    0.285014         0.483722   \n",
       "3                 0.002988   0.019821  0.033001    0.470999         0.235189   \n",
       "4                 0.000093   0.004358  0.008175    0.344444         0.055201   \n",
       "...                    ...        ...       ...         ...              ...   \n",
       "1219              0.000000   0.000000  0.000000    0.000000         0.000063   \n",
       "1220              0.001612   0.000052  0.000000    0.000000         0.000083   \n",
       "1221              0.000001   0.000000  0.000000    0.000000         0.000115   \n",
       "1222              0.000000   0.000010  0.000033    0.000000         0.000400   \n",
       "1223              0.000000   0.000071  0.000011    0.000000         0.000126   \n",
       "\n",
       "      followers_count  friends_count  statuses_count  \n",
       "0          2027.00232     966.518561    23077.184455  \n",
       "1          4557.00000    4126.000000    18797.000000  \n",
       "2          2027.00232     966.518561    23077.184455  \n",
       "3           383.00000     839.000000     2067.000000  \n",
       "4          2027.00232     966.518561    23077.184455  \n",
       "...               ...            ...             ...  \n",
       "1219        175.00000     265.000000     4091.000000  \n",
       "1220        272.00000     515.000000     5520.000000  \n",
       "1221       2027.00232     966.518561    23077.184455  \n",
       "1222        342.00000     591.000000    15381.000000  \n",
       "1223       2027.00232     966.518561    23077.184455  \n",
       "\n",
       "[1224 rows x 11 columns]"
      ]
     },
     "execution_count": 26,
     "metadata": {},
     "output_type": "execute_result"
    }
   ],
   "source": [
    "full_dataset = full_dataset.fillna(full_dataset.mean())\n",
    "full_dataset"
   ]
  },
  {
   "cell_type": "markdown",
   "metadata": {},
   "source": [
    "De esta forma se obtiene un dataset sin información faltante.\n",
    "\n",
    "Para facilitar la convergencia de los algoritmos es recomendado normalizar todos los atributos entre 0 y 1, es por eso que se calcula la norma de cada uno y se los divide entre ella:"
   ]
  },
  {
   "cell_type": "code",
   "execution_count": 27,
   "metadata": {},
   "outputs": [],
   "source": [
    "from sklearn import preprocessing\n",
    "\n",
    "x = full_dataset.values # returns a numpy array\n",
    "min_max_scaler = preprocessing.MinMaxScaler()\n",
    "x_scaled = min_max_scaler.fit_transform(x)\n",
    "scaled_labeled_dataset = pd.DataFrame(x_scaled)\n",
    "\n",
    "scaled_matrix = scaled_labeled_dataset.to_numpy()"
   ]
  },
  {
   "cell_type": "markdown",
   "metadata": {},
   "source": [
    "Seguido se construye la matriz de etiquetas `y` de tamaño 2xN donde **FA** es **0**, **CM** **1**, sin etiqueta **NaN**."
   ]
  },
  {
   "cell_type": "code",
   "execution_count": 28,
   "metadata": {},
   "outputs": [],
   "source": [
    "valid_labels_cm = labels.values\n",
    "valid_labels_fa = 1 - valid_labels_cm\n",
    "labels_matrix = [valid_labels_fa, valid_labels_cm]\n",
    "labels_matrix = np.array(labels_matrix).transpose()"
   ]
  },
  {
   "cell_type": "markdown",
   "metadata": {},
   "source": [
    "Para agregarle aleatoriedad a nuestro algoritmo, se toma de forma randómica 80\\% de nuestros 92 nodos etiquetadas para entrenamiento y 20\\% para test y validación (se utilizará el mismo conjunto por contar con acotada información)."
   ]
  },
  {
   "cell_type": "code",
   "execution_count": 29,
   "metadata": {},
   "outputs": [],
   "source": [
    "np_index = np.array(index_of_labeled)\n",
    "np.random.shuffle(np_index)\n",
    "train_indices = np_index[1:72] # 80% para train\n",
    "test_indices = np_index[72:-1] # 20 % test y validación"
   ]
  },
  {
   "cell_type": "markdown",
   "metadata": {},
   "source": [
    "Una vez obtenidos los índices, se generan las máscaras necesarias y se sustituyen los **NaN** por -1 para que sean leídas por la red:"
   ]
  },
  {
   "cell_type": "code",
   "execution_count": 30,
   "metadata": {},
   "outputs": [
    {
     "data": {
      "text/plain": [
       "array([False, False, False, ..., False, False, False])"
      ]
     },
     "execution_count": 30,
     "metadata": {},
     "output_type": "execute_result"
    }
   ],
   "source": [
    "training_mask = np.zeros((len(labels),),dtype=bool)\n",
    "testing_mask = np.zeros((len(labels),),dtype=bool)\n",
    "validating_mask = np.zeros((len(labels),),dtype=bool)\n",
    "\n",
    "training_mask[train_indices] = True\n",
    "testing_mask[test_indices] = True\n",
    "validating_mask[test_indices] = True\n",
    "\n",
    "np.nan_to_num(adj_matrix, copy=False, nan=-1.0, posinf=-1.0, neginf=-1.0)\n",
    "np.nan_to_num(scaled_matrix, copy=False, nan=-1.0, posinf=-1.0, neginf=-1.0)\n",
    "np.nan_to_num(labels_matrix, copy=False, nan=-1.0, posinf=-1.0, neginf=-1.0)\n",
    "np.nan_to_num(training_mask, copy=False, nan=False, posinf=False, neginf=False)\n",
    "np.nan_to_num(testing_mask, copy=False, nan=False, posinf=False, neginf=False)\n",
    "np.nan_to_num(validating_mask, copy=False, nan=False, posinf=False, neginf=False)"
   ]
  },
  {
   "cell_type": "markdown",
   "metadata": {},
   "source": [
    "Guardamos el model en `model/model.ckpt`:"
   ]
  },
  {
   "cell_type": "code",
   "execution_count": 31,
   "metadata": {},
   "outputs": [],
   "source": [
    "import os\n",
    "\n",
    "checkpoint_path = \"model/model.ckpt\"\n",
    "checkpoint_dir = os.path.dirname(checkpoint_path)\n",
    "\n",
    "# Create a callback that saves the model's weights\n",
    "cp_callback = tf.keras.callbacks.ModelCheckpoint(filepath=checkpoint_path,\n",
    "                                                 save_weights_only=True,\n",
    "                                                 verbose=1)"
   ]
  },
  {
   "cell_type": "code",
   "execution_count": 86,
   "metadata": {},
   "outputs": [
    {
     "name": "stdout",
     "output_type": "stream",
     "text": [
      "Model: \"functional_37\"\n",
      "__________________________________________________________________________________________________\n",
      "Layer (type)                    Output Shape         Param #     Connected to                     \n",
      "==================================================================================================\n",
      "input_37 (InputLayer)           [(None, 11)]         0                                            \n",
      "__________________________________________________________________________________________________\n",
      "dropout_36 (Dropout)            (None, 11)           0           input_37[0][0]                   \n",
      "__________________________________________________________________________________________________\n",
      "input_38 (InputLayer)           [(None, 1224)]       0                                            \n",
      "__________________________________________________________________________________________________\n",
      "graph_conv_36 (GraphConv)       (None, 16)           176         dropout_36[0][0]                 \n",
      "                                                                 input_38[0][0]                   \n",
      "__________________________________________________________________________________________________\n",
      "dropout_37 (Dropout)            (None, 16)           0           graph_conv_36[0][0]              \n",
      "__________________________________________________________________________________________________\n",
      "graph_conv_37 (GraphConv)       (None, 2)            32          dropout_37[0][0]                 \n",
      "                                                                 input_38[0][0]                   \n",
      "==================================================================================================\n",
      "Total params: 208\n",
      "Trainable params: 208\n",
      "Non-trainable params: 0\n",
      "__________________________________________________________________________________________________\n",
      "Epoch 1/15\n",
      "1/1 [==============================] - ETA: 0s - loss: 0.0415 - acc: 0.5915\n",
      "Epoch 00001: saving model to model/model.ckpt\n",
      "1/1 [==============================] - 0s 207ms/step - loss: 0.0415 - acc: 0.5915 - val_loss: 0.0132 - val_acc: 0.6316\n",
      "Epoch 2/15\n",
      "1/1 [==============================] - ETA: 0s - loss: 0.0401 - acc: 0.6338\n",
      "Epoch 00002: saving model to model/model.ckpt\n",
      "1/1 [==============================] - 0s 29ms/step - loss: 0.0401 - acc: 0.6338 - val_loss: 0.0128 - val_acc: 0.8421\n",
      "Epoch 3/15\n",
      "1/1 [==============================] - ETA: 0s - loss: 0.0396 - acc: 0.7887\n",
      "Epoch 00003: saving model to model/model.ckpt\n",
      "1/1 [==============================] - 0s 31ms/step - loss: 0.0396 - acc: 0.7887 - val_loss: 0.0124 - val_acc: 1.0000\n",
      "Epoch 4/15\n",
      "1/1 [==============================] - ETA: 0s - loss: 0.0385 - acc: 0.9859\n",
      "Epoch 00004: saving model to model/model.ckpt\n",
      "1/1 [==============================] - 0s 29ms/step - loss: 0.0385 - acc: 0.9859 - val_loss: 0.0121 - val_acc: 1.0000\n",
      "Epoch 5/15\n",
      "1/1 [==============================] - ETA: 0s - loss: 0.0369 - acc: 1.0000\n",
      "Epoch 00005: saving model to model/model.ckpt\n",
      "1/1 [==============================] - 0s 30ms/step - loss: 0.0369 - acc: 1.0000 - val_loss: 0.0118 - val_acc: 1.0000\n",
      "Epoch 6/15\n",
      "1/1 [==============================] - ETA: 0s - loss: 0.0362 - acc: 1.0000\n",
      "Epoch 00006: saving model to model/model.ckpt\n",
      "1/1 [==============================] - 0s 28ms/step - loss: 0.0362 - acc: 1.0000 - val_loss: 0.0115 - val_acc: 1.0000\n",
      "Epoch 7/15\n",
      "1/1 [==============================] - ETA: 0s - loss: 0.0354 - acc: 1.0000\n",
      "Epoch 00007: saving model to model/model.ckpt\n",
      "1/1 [==============================] - 0s 27ms/step - loss: 0.0354 - acc: 1.0000 - val_loss: 0.0113 - val_acc: 1.0000\n",
      "Epoch 8/15\n",
      "1/1 [==============================] - ETA: 0s - loss: 0.0347 - acc: 1.0000\n",
      "Epoch 00008: saving model to model/model.ckpt\n",
      "1/1 [==============================] - 0s 27ms/step - loss: 0.0347 - acc: 1.0000 - val_loss: 0.0110 - val_acc: 1.0000\n",
      "Epoch 9/15\n",
      "1/1 [==============================] - ETA: 0s - loss: 0.0340 - acc: 1.0000\n",
      "Epoch 00009: saving model to model/model.ckpt\n",
      "1/1 [==============================] - 0s 27ms/step - loss: 0.0340 - acc: 1.0000 - val_loss: 0.0108 - val_acc: 1.0000\n",
      "Epoch 10/15\n",
      "1/1 [==============================] - ETA: 0s - loss: 0.0341 - acc: 1.0000\n",
      "Epoch 00010: saving model to model/model.ckpt\n",
      "1/1 [==============================] - 0s 28ms/step - loss: 0.0341 - acc: 1.0000 - val_loss: 0.0105 - val_acc: 1.0000\n",
      "Epoch 11/15\n",
      "1/1 [==============================] - ETA: 0s - loss: 0.0326 - acc: 1.0000\n",
      "Epoch 00011: saving model to model/model.ckpt\n",
      "1/1 [==============================] - 0s 27ms/step - loss: 0.0326 - acc: 1.0000 - val_loss: 0.0103 - val_acc: 1.0000\n",
      "Epoch 12/15\n",
      "1/1 [==============================] - ETA: 0s - loss: 0.0319 - acc: 1.0000\n",
      "Epoch 00012: saving model to model/model.ckpt\n",
      "1/1 [==============================] - 0s 30ms/step - loss: 0.0319 - acc: 1.0000 - val_loss: 0.0100 - val_acc: 1.0000\n",
      "Epoch 13/15\n",
      "1/1 [==============================] - ETA: 0s - loss: 0.0309 - acc: 1.0000\n",
      "Epoch 00013: saving model to model/model.ckpt\n",
      "1/1 [==============================] - 0s 28ms/step - loss: 0.0309 - acc: 1.0000 - val_loss: 0.0098 - val_acc: 1.0000\n",
      "Epoch 14/15\n",
      "1/1 [==============================] - ETA: 0s - loss: 0.0312 - acc: 1.0000\n",
      "Epoch 00014: saving model to model/model.ckpt\n",
      "1/1 [==============================] - 0s 28ms/step - loss: 0.0312 - acc: 1.0000 - val_loss: 0.0095 - val_acc: 1.0000\n",
      "Epoch 15/15\n",
      "1/1 [==============================] - ETA: 0s - loss: 0.0293 - acc: 1.0000\n",
      "Epoch 00015: saving model to model/model.ckpt\n",
      "1/1 [==============================] - 0s 27ms/step - loss: 0.0293 - acc: 1.0000 - val_loss: 0.0093 - val_acc: 1.0000\n",
      "Evaluating model.\n",
      "1/1 [==============================] - 0s 928us/step - loss: 0.0093 - acc: 1.0000\n",
      "Done.\n",
      "Test loss: 0.009315963834524155\n",
      "Test accuracy: 1.0\n"
     ]
    }
   ],
   "source": [
    "from tensorflow.keras.callbacks import EarlyStopping\n",
    "from tensorflow.keras.layers import Input, Dropout\n",
    "from tensorflow.keras.models import Model\n",
    "from tensorflow.keras.optimizers import Adam\n",
    "from tensorflow.keras.regularizers import l2\n",
    "\n",
    "from spektral.layers import GraphConv\n",
    "\n",
    "# Load data\n",
    "A = adj_matrix\n",
    "X = scaled_matrix\n",
    "y = labels_matrix\n",
    "train_mask = training_mask\n",
    "val_mask = validating_mask\n",
    "test_mask = testing_mask\n",
    "\n",
    "\n",
    "# Parameters\n",
    "channels = 16           # Number of channels in the first layer\n",
    "N = X.shape[0]          # Number of nodes in the graph\n",
    "F = X.shape[1]          # Original size of node features\n",
    "n_classes = 2           # Number of classes\n",
    "dropout = 0.01           # Dropout rate for the features\n",
    "l2_reg = 5e-4 / 2       # L2 regularization rate\n",
    "learning_rate = 1e-2    # Learning rate > => < epochs\n",
    "epochs = 15             # Number of training epochs\n",
    "\n",
    "# Preprocessing operations\n",
    "fltr = GraphConv.preprocess(A).astype('f4')\n",
    "#X = X.toarray()\n",
    "\n",
    "# Model definition\n",
    "X_in = Input(shape=(F, ))\n",
    "fltr_in = Input((N, ), sparse=True)\n",
    "\n",
    "dropout_1 = Dropout(dropout)(X_in)\n",
    "graph_conv_1 = GraphConv(channels,\n",
    "                         activation='relu',\n",
    "                         kernel_regularizer=l2(l2_reg),\n",
    "                         use_bias=False)([dropout_1, fltr_in])\n",
    "dropout_2 = Dropout(dropout)(graph_conv_1)\n",
    "graph_conv_2 = GraphConv(n_classes,\n",
    "                         activation='softmax',\n",
    "                         use_bias=False)([dropout_2, fltr_in])\n",
    "\n",
    "# Build model\n",
    "model = Model(inputs=[X_in, fltr_in], outputs=graph_conv_2)\n",
    "optimizer = Adam(lr=learning_rate)\n",
    "model.compile(optimizer=optimizer,\n",
    "              loss='categorical_crossentropy',\n",
    "              weighted_metrics=['acc'])\n",
    "model.summary()\n",
    "\n",
    "# Train model\n",
    "validation_data = ([X, fltr], y, val_mask)\n",
    "model.fit([X, fltr],\n",
    "          y,\n",
    "          sample_weight=train_mask,\n",
    "          epochs=epochs,\n",
    "          batch_size=N,\n",
    "          validation_data=validation_data,\n",
    "          shuffle=False,\n",
    "          callbacks=[cp_callback])\n",
    "\n",
    "# Evaluate model\n",
    "print('Evaluating model.')\n",
    "eval_results = model.evaluate([X, fltr],\n",
    "                              y,\n",
    "                              sample_weight=test_mask,\n",
    "                              batch_size=N)\n",
    "print('Done.\\n'\n",
    "      'Test loss: {}\\n'\n",
    "      'Test accuracy: {}'.format(*eval_results))"
   ]
  },
  {
   "cell_type": "markdown",
   "metadata": {},
   "source": [
    "Una vez entrenado el modelo, (por facilidad) se compara las salidas predichas por el mismo con las clases de modularidad, las cuales parecen ser un muy buen clasificador.\n",
    "\n",
    "Para esto recordamos que en su totalidad, los Frenteamplistas etiquetados manualmente forman parte de la clase de modularidad **5** mientras que los simpatizantes de la Coalición pertenecen a la **3**."
   ]
  },
  {
   "cell_type": "code",
   "execution_count": 88,
   "metadata": {},
   "outputs": [],
   "source": [
    "result = model.predict_on_batch([X,fltr])\n",
    "etiquetas = ['fa' if x[0]>x[1] else 'cm' for x in result]\n",
    "\n",
    "dataset_2 = pd.read_csv(\"perfiles_etiquetados.csv\")\n",
    "dataset_2['afinidad_p'] = etiquetas"
   ]
  },
  {
   "cell_type": "code",
   "execution_count": 89,
   "metadata": {},
   "outputs": [
    {
     "data": {
      "text/html": [
       "<div>\n",
       "<style scoped>\n",
       "    .dataframe tbody tr th:only-of-type {\n",
       "        vertical-align: middle;\n",
       "    }\n",
       "\n",
       "    .dataframe tbody tr th {\n",
       "        vertical-align: top;\n",
       "    }\n",
       "\n",
       "    .dataframe thead th {\n",
       "        text-align: right;\n",
       "    }\n",
       "</style>\n",
       "<table border=\"1\" class=\"dataframe\">\n",
       "  <thead>\n",
       "    <tr style=\"text-align: right;\">\n",
       "      <th></th>\n",
       "      <th>Id</th>\n",
       "      <th>Label</th>\n",
       "      <th>afinidad_p</th>\n",
       "      <th>modularity_class</th>\n",
       "    </tr>\n",
       "  </thead>\n",
       "  <tbody>\n",
       "    <tr>\n",
       "      <th>0</th>\n",
       "      <td>1052916459834364032</td>\n",
       "      <td>MillorLujan</td>\n",
       "      <td>fa</td>\n",
       "      <td>5</td>\n",
       "    </tr>\n",
       "    <tr>\n",
       "      <th>1</th>\n",
       "      <td>1192212972497784832</td>\n",
       "      <td>MonicaBatlle4</td>\n",
       "      <td>cm</td>\n",
       "      <td>3</td>\n",
       "    </tr>\n",
       "    <tr>\n",
       "      <th>2</th>\n",
       "      <td>427830008</td>\n",
       "      <td>ubidominans</td>\n",
       "      <td>fa</td>\n",
       "      <td>5</td>\n",
       "    </tr>\n",
       "    <tr>\n",
       "      <th>3</th>\n",
       "      <td>1367991289</td>\n",
       "      <td>laresistencia72</td>\n",
       "      <td>fa</td>\n",
       "      <td>5</td>\n",
       "    </tr>\n",
       "    <tr>\n",
       "      <th>4</th>\n",
       "      <td>938192801023561600</td>\n",
       "      <td>Sofamansillaeco</td>\n",
       "      <td>fa</td>\n",
       "      <td>5</td>\n",
       "    </tr>\n",
       "    <tr>\n",
       "      <th>...</th>\n",
       "      <td>...</td>\n",
       "      <td>...</td>\n",
       "      <td>...</td>\n",
       "      <td>...</td>\n",
       "    </tr>\n",
       "    <tr>\n",
       "      <th>1219</th>\n",
       "      <td>2769388672</td>\n",
       "      <td>lcalistro18</td>\n",
       "      <td>fa</td>\n",
       "      <td>15</td>\n",
       "    </tr>\n",
       "    <tr>\n",
       "      <th>1220</th>\n",
       "      <td>3061796939</td>\n",
       "      <td>milu15_3</td>\n",
       "      <td>fa</td>\n",
       "      <td>9</td>\n",
       "    </tr>\n",
       "    <tr>\n",
       "      <th>1221</th>\n",
       "      <td>979056155266899968</td>\n",
       "      <td>Mateocaf1916</td>\n",
       "      <td>fa</td>\n",
       "      <td>15</td>\n",
       "    </tr>\n",
       "    <tr>\n",
       "      <th>1222</th>\n",
       "      <td>738774175054200832</td>\n",
       "      <td>agussd21</td>\n",
       "      <td>fa</td>\n",
       "      <td>5</td>\n",
       "    </tr>\n",
       "    <tr>\n",
       "      <th>1223</th>\n",
       "      <td>1273699075133771776</td>\n",
       "      <td>melviraochoa</td>\n",
       "      <td>fa</td>\n",
       "      <td>3</td>\n",
       "    </tr>\n",
       "  </tbody>\n",
       "</table>\n",
       "<p>1224 rows × 4 columns</p>\n",
       "</div>"
      ],
      "text/plain": [
       "                       Id            Label afinidad_p  modularity_class\n",
       "0     1052916459834364032      MillorLujan         fa                 5\n",
       "1     1192212972497784832    MonicaBatlle4         cm                 3\n",
       "2               427830008      ubidominans         fa                 5\n",
       "3              1367991289  laresistencia72         fa                 5\n",
       "4      938192801023561600  Sofamansillaeco         fa                 5\n",
       "...                   ...              ...        ...               ...\n",
       "1219           2769388672      lcalistro18         fa                15\n",
       "1220           3061796939         milu15_3         fa                 9\n",
       "1221   979056155266899968     Mateocaf1916         fa                15\n",
       "1222   738774175054200832         agussd21         fa                 5\n",
       "1223  1273699075133771776     melviraochoa         fa                 3\n",
       "\n",
       "[1224 rows x 4 columns]"
      ]
     },
     "execution_count": 89,
     "metadata": {},
     "output_type": "execute_result"
    }
   ],
   "source": [
    "prediction = dataset_2.filter(['Id', 'Label', 'afinidad_p', 'modularity_class'])\n",
    "prediction"
   ]
  },
  {
   "cell_type": "markdown",
   "metadata": {},
   "source": [
    "Para calcular una accuracy **a gran escala**, se calculan los porcentajes predichos como FA que pertenecen a la clase de modularidad **5** asi como los porcentajes de predichos como CM que tengan clase **3**."
   ]
  },
  {
   "cell_type": "code",
   "execution_count": 90,
   "metadata": {},
   "outputs": [
    {
     "name": "stdout",
     "output_type": "stream",
     "text": [
      "FA accuracy:  0.606312292358804 CM accuracy:  0.7202572347266881\n"
     ]
    }
   ],
   "source": [
    "total_fa = prediction[prediction['afinidad_p'] == 'fa']\n",
    "fa_in_5 = prediction[(prediction['afinidad_p'] == 'fa') & (prediction['modularity_class'] == 5)]\n",
    "fa_accuracy =  len(fa_in_5) / len(total_fa)\n",
    "\n",
    "total_cm = prediction[prediction['afinidad_p'] == 'cm']\n",
    "cm_in_3 = prediction[(prediction['afinidad_p'] == 'cm') & (prediction['modularity_class'] == 3)]\n",
    "cm_accuracy =  len(cm_in_3) / len(total_cm)\n",
    "\n",
    "print('FA accuracy: ', fa_accuracy, 'CM accuracy: ', cm_accuracy)"
   ]
  },
  {
   "cell_type": "markdown",
   "metadata": {},
   "source": [
    "La primera conclusión que podemos sacar es que nuestro modelo está sobreajustando enormemente a nuestros datos. Esto puede ser por la muy poca cantidad de ejemplos que se tiene.\n",
    "\n",
    "Para contrarestar esto se intentaron distintos hiperparámetros pero no se pudo mejorar los resultados por la falta de experiencia con este tipo de redes y será un punto a trabajar en el futuro."
   ]
  },
  {
   "cell_type": "markdown",
   "metadata": {},
   "source": [
    "***\n",
    "\n",
    "## 6) Análisis de los actores de la red"
   ]
  },
  {
   "cell_type": "markdown",
   "metadata": {},
   "source": [
    "#### Centralidad de los nodos:\n",
    "\n",
    "En las siguiente sección se estudiará la red haciendo énfasis en las distintas centralidades de los nodos. En teoría de grafos y análisis de redes, la centralidad es una medida posible de un vértice en dicho grafo que determina su importancia relativa dentro de éste.\n",
    "\n",
    "Conocer la centralidad de un nodo puede ayudar a determinar, por ejemplo, el impacto de una persona involucrada en una red social."
   ]
  },
  {
   "cell_type": "markdown",
   "metadata": {},
   "source": [
    "### 6.1) Según grado entrante:\n",
    "En la siguiente representación se dibuja cada nodo con un tamaño proporcional al grado entrante del mismo. En la red real, implicaría que el tamaño de cada nodo será proporcional a la cantidad de seguidores que tenga cada cuenta:\n"
   ]
  },
  {
   "cell_type": "markdown",
   "metadata": {},
   "source": [
    "![image10](img/10.png)"
   ]
  },
  {
   "cell_type": "markdown",
   "metadata": {},
   "source": [
    "**A continuación se analizan los diez primero nodos de la red con mayor grado entrante:**\n",
    "\n",
    "| **Username** | **Grado entrante** | **Grado en la red completa** | **Comentario sobre el usuario** |\n",
    "| --- | --- | --- | --- |\n",
    "| diegodelacurva | 488 | 302.800 | Periodista reconocido |\n",
    "| TelemundoUY | 408 | 198.500 | Programa informativo de medio masivo de comunicación uruguayo (Canal 12) |\n",
    "| JavierGarcia\\_Uy | 376 | 65.500 | Ex senador de la República por el Partido Nacional. Actual Ministro de Defensa Nacional |\n",
    "| PNACIONAL | 351 | 70.200 | Cuenta oficial del Partido Nacional, partido político uruguayo que alberga sectores de variada ideología desde la centro derecha a la derecha política. Actualmente conforma la Coalición Multicolor. |\n",
    "| gbianchi404 | 328 | 40.900 | Senadora por el Partido Nacional por la lista 404. |\n",
    "| conradoh47 | 315 | 42.500 | Conocido contador uruguayo alineado al Partido Nacional. |\n",
    "| midesuy | 252 | 48.900 | Cuenta oficial del Ministerio de Desarrollo social de Uruguay. |\n",
    "| Herrerismo | 216 | 25.500 | Cuenta oficial del sector Herrerista del Partido Nacional. |\n",
    "| RominaPesce5 | 215 | 7.900 | Cuenta &quot;_independiente_&quot;. Contiene publicaciones a favor del Partido Nacional y contrarias al Frente Amplio. |\n",
    "| DipRodrigoGoni | 201 | 14.700 | Cuenta del Diputado por el Partido Nacional Rodrigo Goñi |"
   ]
  },
  {
   "cell_type": "markdown",
   "metadata": {},
   "source": [
    "En esta primera tabla podemos ver los usuarios con mayor cantidad de seguidores en nuestra red. Se añade la columna `grado en la red completa` con la cantidad de seguidores que tiene en la red total (en lugar de la subred de Twitter recabada)."
   ]
  },
  {
   "cell_type": "markdown",
   "metadata": {},
   "source": [
    "Vale destacar que, si bien se puede afirmar que hay una gran relación entre los usuarios con mayor cantidad de seguidores en la _red completa_ y el grado entrante de los nodos, la muestra de usuarios tomados y la red construida no recaban de manera 100% fiel la proporción de seguidores de la _red completa_. Ejemplos de esto son los usuarios **JavierGarcia\\_Uy** (65.500 seguidores) y **PNACIONAL** (70.200 seguidores) quienes en la _red completa_ invertirían su orden en la tabla así como lo harían **RominaPesce5** y **DipRodrigoGoni**.\n",
    "\n",
    "En general, en esta lista podemos encontrar una gran cantidad de integrantes del Partido Nacional."
   ]
  },
  {
   "cell_type": "markdown",
   "metadata": {},
   "source": [
    "### 6.2) Según PageRank:\n",
    "\n",
    "PageRank es un algoritmo que caracteriza con un número real la importancia que tiene un nodo en la red. Para hacer esto tiene en cuenta de forma recursiva si un nodo importante de la red se relaciona con otro. Los nodos transmiten parte de su importancia a sus vecinos y estos a los suyos.\n",
    "\n",
    "En nuestro caso, ser seguido por personas importantes de la red aumentará nuestra importancia en la red.\n",
    "\n",
    "A continuación se dibuja el grafo donde el tamaño de cada nodo es proporcional a su medida de PageRank. Los colores de cada nodo corresponden a sus respectivas clases definidas en la sección de modularidad."
   ]
  },
  {
   "cell_type": "markdown",
   "metadata": {},
   "source": [
    "![image11](img/11.png)"
   ]
  },
  {
   "cell_type": "markdown",
   "metadata": {},
   "source": [
    "**Se desglosan y estudian los 10 usuarios con mayor PageRank**\n",
    "\n",
    "| **Username** | **PageRank** | **Comentario sobre el usuario** |\n",
    "| --- | --- | --- |\n",
    "| diegodelacurva | 0.03132 | Periodista reconocido |\n",
    "| PNACIONAL | 0.02105 | Cuenta oficial del Partido Nacional, partido político uruguayo que alberga sectores de variada ideología desde la centro derecha a la derecha política. Actualmente conforma la Coalición Multicolor. |\n",
    "| JavierGarcia\\_Uy | 0.01991 | Ex senador de la República por el Partido Nacional. Actual Ministro de Defensa Nacional |\n",
    "| TelemundoUY | 0.01943 | Programa informativo de medio masivo de comunicación uruguayo (Canal 12) |\n",
    "| midesuy | 0.01920 | Cuenta oficial del Ministerio de Desarrollo social de Uruguay. |\n",
    "| gbianchi404 | 0.01697 | Senadora por el Partido Nacional por la lista 404. |\n",
    "| Herrerismo | 0.01561 | Cuenta oficial del sector Herrerista del Partido Nacional. |\n",
    "| oppuruguay | 0.01439 | Oficina de Planeamiento y Presupuesto de la Presidencia de la República |\n",
    "| DipRodrigoGoni | 0.01291 | Cuenta del Diputado por el Partido Nacional Rodrigo Goñi |\n",
    "| conradoh47 | 0.01258 | Conocido contador uruguayo alineado al Partido Nacional. |"
   ]
  },
  {
   "cell_type": "markdown",
   "metadata": {},
   "source": [
    "Si bien varios de los usuarios coinciden con los que más seguidores tienen, nuevos entran en el top 10 si hablamos de la importancia de PageRank. El periodista **diegodelacurva** es el que tiene mayor PageRank, siendo considerablemente mayor al del resto. Esto se explica ya que gran porcentaje de los usuarios recabados siguen dicha cuenta, incluyendo autoridades con alto PageRank. A su vez, cuentas institucionales comienzan a ganar importancia con esta medida."
   ]
  },
  {
   "cell_type": "markdown",
   "metadata": {},
   "source": [
    "### 6.3) Según Closeness Centrality:\n",
    "\n",
    "La centralidad de cercanía de un nodo es el promedio del camino más corto entre él y todos los demás. Entre mayor closeness centrality tenga más cerca estará de cualquier nodo de la red (en promedio).\n",
    "\n",
    "Si tenemos en cuenta los nodos que pertenecen a la componente gigante, todos presentan una centralidad muy similar y se puede ver en el siguiente diagrama:"
   ]
  },
  {
   "cell_type": "markdown",
   "metadata": {},
   "source": [
    "![image12](img/12.png)"
   ]
  },
  {
   "cell_type": "markdown",
   "metadata": {},
   "source": [
    "### 6.4) Según Betweenness Centrality:\n",
    "\n",
    "Esta centralidad nos da una idea de qué tan _puente_ es un nodo. En otra palabras, los nodos con alta centralidad betweenness son los que suelen unir distintas componentes y podrían ser los seguidos por gente de las distintas clases."
   ]
  },
  {
   "cell_type": "markdown",
   "metadata": {},
   "source": [
    "![image13](img/13.png)"
   ]
  },
  {
   "cell_type": "markdown",
   "metadata": {},
   "source": [
    "**Se analizan los 10 con mayor medida**\n",
    "\n",
    "| **Username** | **Betweenness Centrality** | **Comentario sobre el usuario** |\n",
    "| --- | --- | --- |\n",
    "| diegodelacurva | 0.13093 | Periodista reconocido |\n",
    "| Sodoma\\_Uy | 0.07583 | Cuenta personal con varios mensajes en contra de la Coalición Multicolor y otros a favor del Frente Amplio |\n",
    "| mariabrava35 | 0.07245 | Cuenta personal, simpatizante del Partido Nacional |\n",
    "| RominaPesce5 | 0.05494 | Cuenta personal. Contiene publicaciones a favor del Partido Nacional y contrarias al Frente Amplio. |\n",
    "| marygambler | 0.05461 | Cuenta personal. Contiene publicaciones a favor del Frente Amplio y contrarias a la Coalición Multicolor. |\n",
    "| carlosvarela02 | 0.04760 | Edil por el Frente Amplio |\n",
    "| ceroestresssss | 0.03343 | Cuenta personal. Simpatizante del Frente Amplio. |\n",
    "| tisgustavo | 0.03282 | Cuenta personal. Sin mucha información política a simple vista. |\n",
    "| AntonioJung1959 | 0.02922 | Cuenta personal. Militante del Partido Nacional. |\n",
    "| MonicaBatlle4 | 0.02886 | Cuenta personal. Comparte información a favor del Partido Nacional y en contra del Frente Amplio. |\n",
    "\n",
    "Puede verse cómo **diegodelacurva** casi duplica en betweenness centrality a su siguiente en la lista. Esto se justifica verificando que muchos usuarios de todas las clases lo siguen aunque no se siguen entre ellos. En este ranking puede verse cómo simpatizantes y actores del Frente Amplio comienzan a ganar centralidad en la red."
   ]
  },
  {
   "cell_type": "markdown",
   "metadata": {},
   "source": [
    "***\n",
    "## 7) Conclusiones"
   ]
  },
  {
   "cell_type": "markdown",
   "metadata": {},
   "source": [
    "Luego de finalizado el informe pueden responderse varias de las preguntas planteadas al comienzo:\n",
    "\n",
    "Efectivamente hay usuarios más influyentes en la red, y varían en el ranking (aunque no considerablemente) tomando en cuenta las distintas medidas de centralidad. Los usuarios más importantes de la red resultan ser personas públicas y reconocidas del Uruguay. Esto se debe a la naturaleza de la red social Twitter. Entre ellos se destacan periodistas como Diego González, senadores como Javier Jarcía y Graciela Bianchi además de cuentas de conocidas instituciones Uruguayas.\n",
    "\n",
    "A su vez, puede evidenciarse la propiedad de homofilia al mirar la estructura del grafo: personas afines a mismas ideologías tienden a relacionarse entre ellas y no así con personas con pensamientos distintos u opuestos.\n",
    "\n",
    "Es interesante cómo se confirman sospechas en cuanto a tendencias en los medios. Si bien no es novedad que algunos medios sean consumidos por personas con determinado perfil, esto queda evidenciado al analizar las clases de modularidad en las que fueron colocados por el algoritmo. Medios conocidos por tendencia conservadora como *El Observador* o *El País* aparecen dentro de la clase de modularidad 3 (donde está el 100% de los usuarios etiquetados como afines a la Coalición Multicolor). De la misma manera pasa con *La Diaria* y la *Emisora M24* en la clase de modularidad 5 (la que pertenecen el 100% de los usuarios clasificados como afines al Frente Amplio). A su vez, las cuentas institucionales y otros medios pertenecen a la clase de modularidad 4, la cual se encuentra a distancias similares con respecto a las 3 y 5.\n",
    "\n",
    "Con respecto al tamaño de las comunidades, la clase de modularidad 3 (asociada a la Coalición Multicolor) cuenta con 460 individuos mientras que la 5 (asociada al Frente Amplio) cuenta con 447. Si tomamos sólo estas dos clases, la CM representa el **50.07%** frente al **49.93%** del Frente Amplio. Estas últimas medidas coinciden en gran parte con los votos obtenidos en las últimas elecciones por cada uno de los partidos en el balotage siendo **50.79%** de la Coalición contra **49.21%** de los votos válidos [según la Corte Electoral](https://segundaeleccion2019.corteelectoral.gub.uy/ResumenResultados.htm), lo que podría indicar que el tema \"**Rural del Prado**\" fue relativamente representativo (yendo en contra de las expectativas).\n",
    "\n",
    "Por último, se utilizaron Graph Neural Networks pero se obtuvieron resultados no muy buenos ni fueron medidos con la correcta precisión. Esto se debe a que fue la primera experiencia con estas herramientas así como con varias de las librerías utilizadas. Estas cosas podrán reverse en futuros trabajos para su mejora."
   ]
  },
  {
   "cell_type": "markdown",
   "metadata": {},
   "source": [
    "## 8) Trabajo futuro:\n",
    "\n",
    "Podrían realizarse numerosas mejoras al presente trabajo comenzando por hacer la recolección de datos más robusta que se reflejaría en la mejora de la calidad de los datos. \n",
    "\n",
    "A su vez, podrían implementarse técnicas de [Procesamiento de Lenguaje Natural](https://es.wikipedia.org/wiki/Procesamiento_de_lenguajes_naturales) para sacar provecho a las fundamentales características de la red Twitter. Un ejemplo sería incluir en la matriz de features embeddings de las biografías de los usuarios así como analizar las ubicaciones de los usuarios.\n",
    "\n",
    "Por otro lado, podrían mejorarse los resultados obtenidos por las redes neuronales revisando hiperparámetros del modelo así como incrementando la cantidad de nodos etiquetados dedicando un mayor tiempo a esta tarea.\n",
    "\n",
    "Por último, sería bueno analizar las restantes clases de modularidad que no fueron casi estudiadas en el presente trabajo."
   ]
  }
 ],
 "metadata": {
  "file_extension": ".py",
  "kernelspec": {
   "display_name": "Python 3",
   "language": "python",
   "name": "python3"
  },
  "language_info": {
   "codemirror_mode": {
    "name": "ipython",
    "version": 3
   },
   "file_extension": ".py",
   "mimetype": "text/x-python",
   "name": "python",
   "nbconvert_exporter": "python",
   "pygments_lexer": "ipython3",
   "version": "3.7.7"
  },
  "mimetype": "text/x-python",
  "name": "python",
  "npconvert_exporter": "python",
  "pygments_lexer": "ipython3",
  "version": 3
 },
 "nbformat": 4,
 "nbformat_minor": 2
}
